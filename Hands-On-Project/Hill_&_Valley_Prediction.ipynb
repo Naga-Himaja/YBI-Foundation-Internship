{
  "nbformat": 4,
  "nbformat_minor": 0,
  "metadata": {
    "colab": {
      "name": "Hill_&_Valley_Prediction.ipynb",
      "provenance": [],
      "collapsed_sections": []
    },
    "kernelspec": {
      "name": "python3",
      "display_name": "Python 3"
    },
    "language_info": {
      "name": "python"
    }
  },
  "cells": [
    {
      "cell_type": "markdown",
      "source": [
        "# Hill_&_Valley_Prediction"
      ],
      "metadata": {
        "id": "OYidZFYMWdUS"
      }
    },
    {
      "cell_type": "markdown",
      "source": [
        "**Import Library**"
      ],
      "metadata": {
        "id": "v3JcT18I0IV9"
      }
    },
    {
      "cell_type": "code",
      "source": [
        "import pandas as pd"
      ],
      "metadata": {
        "id": "5RF312-o0OTq"
      },
      "execution_count": 33,
      "outputs": []
    },
    {
      "cell_type": "code",
      "source": [
        "import numpy as np"
      ],
      "metadata": {
        "id": "J5r_Ruls0eml"
      },
      "execution_count": 34,
      "outputs": []
    },
    {
      "cell_type": "markdown",
      "source": [
        "**Import CSV as DataFrame**"
      ],
      "metadata": {
        "id": "6LMQBuLu0nl2"
      }
    },
    {
      "cell_type": "code",
      "source": [
        "df = pd.read_csv('https://raw.githubusercontent.com/Lorddhaval/Dataset/main/Hill%20Valley%20Dataset.csv')"
      ],
      "metadata": {
        "id": "PNK7iYIv0llJ"
      },
      "execution_count": 35,
      "outputs": []
    },
    {
      "cell_type": "code",
      "source": [
        "df.head()"
      ],
      "metadata": {
        "colab": {
          "base_uri": "https://localhost:8080/",
          "height": 299
        },
        "id": "edZJTlWp05z4",
        "outputId": "6ca37607-96e7-4ab5-b123-0853f76cfe09"
      },
      "execution_count": 36,
      "outputs": [
        {
          "output_type": "execute_result",
          "data": {
            "text/plain": [
              "         V1        V2        V3        V4        V5        V6        V7  \\\n",
              "0     39.02     36.49     38.20     38.85     39.38     39.74     37.02   \n",
              "1      1.83      1.71      1.77      1.77      1.68      1.78      1.80   \n",
              "2  68177.69  66138.42  72981.88  74304.33  67549.66  69367.34  69169.41   \n",
              "3  44889.06  39191.86  40728.46  38576.36  45876.06  47034.00  46611.43   \n",
              "4      5.70      5.40      5.28      5.38      5.27      5.61      6.00   \n",
              "\n",
              "         V8        V9       V10  ...       V92       V93       V94       V95  \\\n",
              "0     39.53     38.81     38.79  ...     36.62     36.92     38.80     38.52   \n",
              "1      1.70      1.75      1.78  ...      1.80      1.79      1.77      1.74   \n",
              "2  73268.61  74465.84  72503.37  ...  73438.88  71053.35  71112.62  74916.48   \n",
              "3  37668.32  40980.89  38466.15  ...  42625.67  40684.20  46960.73  44546.80   \n",
              "4      5.38      5.34      5.87  ...      5.17      5.67      5.60      5.94   \n",
              "\n",
              "        V96       V97       V98       V99      V100  Class  \n",
              "0     38.07     36.73     39.46     37.50     39.10      0  \n",
              "1      1.74      1.80      1.78      1.75      1.69      1  \n",
              "2  72571.58  66348.97  71063.72  67404.27  74920.24      1  \n",
              "3  45410.53  47139.44  43095.68  40888.34  39615.19      0  \n",
              "4      5.73      5.22      5.30      5.73      5.91      0  \n",
              "\n",
              "[5 rows x 101 columns]"
            ],
            "text/html": [
              "\n",
              "  <div id=\"df-25fb30ca-5ee8-4a8e-961f-2c256881e6ce\">\n",
              "    <div class=\"colab-df-container\">\n",
              "      <div>\n",
              "<style scoped>\n",
              "    .dataframe tbody tr th:only-of-type {\n",
              "        vertical-align: middle;\n",
              "    }\n",
              "\n",
              "    .dataframe tbody tr th {\n",
              "        vertical-align: top;\n",
              "    }\n",
              "\n",
              "    .dataframe thead th {\n",
              "        text-align: right;\n",
              "    }\n",
              "</style>\n",
              "<table border=\"1\" class=\"dataframe\">\n",
              "  <thead>\n",
              "    <tr style=\"text-align: right;\">\n",
              "      <th></th>\n",
              "      <th>V1</th>\n",
              "      <th>V2</th>\n",
              "      <th>V3</th>\n",
              "      <th>V4</th>\n",
              "      <th>V5</th>\n",
              "      <th>V6</th>\n",
              "      <th>V7</th>\n",
              "      <th>V8</th>\n",
              "      <th>V9</th>\n",
              "      <th>V10</th>\n",
              "      <th>...</th>\n",
              "      <th>V92</th>\n",
              "      <th>V93</th>\n",
              "      <th>V94</th>\n",
              "      <th>V95</th>\n",
              "      <th>V96</th>\n",
              "      <th>V97</th>\n",
              "      <th>V98</th>\n",
              "      <th>V99</th>\n",
              "      <th>V100</th>\n",
              "      <th>Class</th>\n",
              "    </tr>\n",
              "  </thead>\n",
              "  <tbody>\n",
              "    <tr>\n",
              "      <th>0</th>\n",
              "      <td>39.02</td>\n",
              "      <td>36.49</td>\n",
              "      <td>38.20</td>\n",
              "      <td>38.85</td>\n",
              "      <td>39.38</td>\n",
              "      <td>39.74</td>\n",
              "      <td>37.02</td>\n",
              "      <td>39.53</td>\n",
              "      <td>38.81</td>\n",
              "      <td>38.79</td>\n",
              "      <td>...</td>\n",
              "      <td>36.62</td>\n",
              "      <td>36.92</td>\n",
              "      <td>38.80</td>\n",
              "      <td>38.52</td>\n",
              "      <td>38.07</td>\n",
              "      <td>36.73</td>\n",
              "      <td>39.46</td>\n",
              "      <td>37.50</td>\n",
              "      <td>39.10</td>\n",
              "      <td>0</td>\n",
              "    </tr>\n",
              "    <tr>\n",
              "      <th>1</th>\n",
              "      <td>1.83</td>\n",
              "      <td>1.71</td>\n",
              "      <td>1.77</td>\n",
              "      <td>1.77</td>\n",
              "      <td>1.68</td>\n",
              "      <td>1.78</td>\n",
              "      <td>1.80</td>\n",
              "      <td>1.70</td>\n",
              "      <td>1.75</td>\n",
              "      <td>1.78</td>\n",
              "      <td>...</td>\n",
              "      <td>1.80</td>\n",
              "      <td>1.79</td>\n",
              "      <td>1.77</td>\n",
              "      <td>1.74</td>\n",
              "      <td>1.74</td>\n",
              "      <td>1.80</td>\n",
              "      <td>1.78</td>\n",
              "      <td>1.75</td>\n",
              "      <td>1.69</td>\n",
              "      <td>1</td>\n",
              "    </tr>\n",
              "    <tr>\n",
              "      <th>2</th>\n",
              "      <td>68177.69</td>\n",
              "      <td>66138.42</td>\n",
              "      <td>72981.88</td>\n",
              "      <td>74304.33</td>\n",
              "      <td>67549.66</td>\n",
              "      <td>69367.34</td>\n",
              "      <td>69169.41</td>\n",
              "      <td>73268.61</td>\n",
              "      <td>74465.84</td>\n",
              "      <td>72503.37</td>\n",
              "      <td>...</td>\n",
              "      <td>73438.88</td>\n",
              "      <td>71053.35</td>\n",
              "      <td>71112.62</td>\n",
              "      <td>74916.48</td>\n",
              "      <td>72571.58</td>\n",
              "      <td>66348.97</td>\n",
              "      <td>71063.72</td>\n",
              "      <td>67404.27</td>\n",
              "      <td>74920.24</td>\n",
              "      <td>1</td>\n",
              "    </tr>\n",
              "    <tr>\n",
              "      <th>3</th>\n",
              "      <td>44889.06</td>\n",
              "      <td>39191.86</td>\n",
              "      <td>40728.46</td>\n",
              "      <td>38576.36</td>\n",
              "      <td>45876.06</td>\n",
              "      <td>47034.00</td>\n",
              "      <td>46611.43</td>\n",
              "      <td>37668.32</td>\n",
              "      <td>40980.89</td>\n",
              "      <td>38466.15</td>\n",
              "      <td>...</td>\n",
              "      <td>42625.67</td>\n",
              "      <td>40684.20</td>\n",
              "      <td>46960.73</td>\n",
              "      <td>44546.80</td>\n",
              "      <td>45410.53</td>\n",
              "      <td>47139.44</td>\n",
              "      <td>43095.68</td>\n",
              "      <td>40888.34</td>\n",
              "      <td>39615.19</td>\n",
              "      <td>0</td>\n",
              "    </tr>\n",
              "    <tr>\n",
              "      <th>4</th>\n",
              "      <td>5.70</td>\n",
              "      <td>5.40</td>\n",
              "      <td>5.28</td>\n",
              "      <td>5.38</td>\n",
              "      <td>5.27</td>\n",
              "      <td>5.61</td>\n",
              "      <td>6.00</td>\n",
              "      <td>5.38</td>\n",
              "      <td>5.34</td>\n",
              "      <td>5.87</td>\n",
              "      <td>...</td>\n",
              "      <td>5.17</td>\n",
              "      <td>5.67</td>\n",
              "      <td>5.60</td>\n",
              "      <td>5.94</td>\n",
              "      <td>5.73</td>\n",
              "      <td>5.22</td>\n",
              "      <td>5.30</td>\n",
              "      <td>5.73</td>\n",
              "      <td>5.91</td>\n",
              "      <td>0</td>\n",
              "    </tr>\n",
              "  </tbody>\n",
              "</table>\n",
              "<p>5 rows × 101 columns</p>\n",
              "</div>\n",
              "      <button class=\"colab-df-convert\" onclick=\"convertToInteractive('df-25fb30ca-5ee8-4a8e-961f-2c256881e6ce')\"\n",
              "              title=\"Convert this dataframe to an interactive table.\"\n",
              "              style=\"display:none;\">\n",
              "        \n",
              "  <svg xmlns=\"http://www.w3.org/2000/svg\" height=\"24px\"viewBox=\"0 0 24 24\"\n",
              "       width=\"24px\">\n",
              "    <path d=\"M0 0h24v24H0V0z\" fill=\"none\"/>\n",
              "    <path d=\"M18.56 5.44l.94 2.06.94-2.06 2.06-.94-2.06-.94-.94-2.06-.94 2.06-2.06.94zm-11 1L8.5 8.5l.94-2.06 2.06-.94-2.06-.94L8.5 2.5l-.94 2.06-2.06.94zm10 10l.94 2.06.94-2.06 2.06-.94-2.06-.94-.94-2.06-.94 2.06-2.06.94z\"/><path d=\"M17.41 7.96l-1.37-1.37c-.4-.4-.92-.59-1.43-.59-.52 0-1.04.2-1.43.59L10.3 9.45l-7.72 7.72c-.78.78-.78 2.05 0 2.83L4 21.41c.39.39.9.59 1.41.59.51 0 1.02-.2 1.41-.59l7.78-7.78 2.81-2.81c.8-.78.8-2.07 0-2.86zM5.41 20L4 18.59l7.72-7.72 1.47 1.35L5.41 20z\"/>\n",
              "  </svg>\n",
              "      </button>\n",
              "      \n",
              "  <style>\n",
              "    .colab-df-container {\n",
              "      display:flex;\n",
              "      flex-wrap:wrap;\n",
              "      gap: 12px;\n",
              "    }\n",
              "\n",
              "    .colab-df-convert {\n",
              "      background-color: #E8F0FE;\n",
              "      border: none;\n",
              "      border-radius: 50%;\n",
              "      cursor: pointer;\n",
              "      display: none;\n",
              "      fill: #1967D2;\n",
              "      height: 32px;\n",
              "      padding: 0 0 0 0;\n",
              "      width: 32px;\n",
              "    }\n",
              "\n",
              "    .colab-df-convert:hover {\n",
              "      background-color: #E2EBFA;\n",
              "      box-shadow: 0px 1px 2px rgba(60, 64, 67, 0.3), 0px 1px 3px 1px rgba(60, 64, 67, 0.15);\n",
              "      fill: #174EA6;\n",
              "    }\n",
              "\n",
              "    [theme=dark] .colab-df-convert {\n",
              "      background-color: #3B4455;\n",
              "      fill: #D2E3FC;\n",
              "    }\n",
              "\n",
              "    [theme=dark] .colab-df-convert:hover {\n",
              "      background-color: #434B5C;\n",
              "      box-shadow: 0px 1px 3px 1px rgba(0, 0, 0, 0.15);\n",
              "      filter: drop-shadow(0px 1px 2px rgba(0, 0, 0, 0.3));\n",
              "      fill: #FFFFFF;\n",
              "    }\n",
              "  </style>\n",
              "\n",
              "      <script>\n",
              "        const buttonEl =\n",
              "          document.querySelector('#df-25fb30ca-5ee8-4a8e-961f-2c256881e6ce button.colab-df-convert');\n",
              "        buttonEl.style.display =\n",
              "          google.colab.kernel.accessAllowed ? 'block' : 'none';\n",
              "\n",
              "        async function convertToInteractive(key) {\n",
              "          const element = document.querySelector('#df-25fb30ca-5ee8-4a8e-961f-2c256881e6ce');\n",
              "          const dataTable =\n",
              "            await google.colab.kernel.invokeFunction('convertToInteractive',\n",
              "                                                     [key], {});\n",
              "          if (!dataTable) return;\n",
              "\n",
              "          const docLinkHtml = 'Like what you see? Visit the ' +\n",
              "            '<a target=\"_blank\" href=https://colab.research.google.com/notebooks/data_table.ipynb>data table notebook</a>'\n",
              "            + ' to learn more about interactive tables.';\n",
              "          element.innerHTML = '';\n",
              "          dataTable['output_type'] = 'display_data';\n",
              "          await google.colab.output.renderOutput(dataTable, element);\n",
              "          const docLink = document.createElement('div');\n",
              "          docLink.innerHTML = docLinkHtml;\n",
              "          element.appendChild(docLink);\n",
              "        }\n",
              "      </script>\n",
              "    </div>\n",
              "  </div>\n",
              "  "
            ]
          },
          "metadata": {},
          "execution_count": 36
        }
      ]
    },
    {
      "cell_type": "code",
      "source": [
        "df.info()"
      ],
      "metadata": {
        "colab": {
          "base_uri": "https://localhost:8080/"
        },
        "id": "YXFxaePV0_j_",
        "outputId": "11ab7e8d-135d-4b85-8931-85883c6f7e77"
      },
      "execution_count": 37,
      "outputs": [
        {
          "output_type": "stream",
          "name": "stdout",
          "text": [
            "<class 'pandas.core.frame.DataFrame'>\n",
            "RangeIndex: 1212 entries, 0 to 1211\n",
            "Columns: 101 entries, V1 to Class\n",
            "dtypes: float64(100), int64(1)\n",
            "memory usage: 956.5 KB\n"
          ]
        }
      ]
    },
    {
      "cell_type": "code",
      "source": [
        "df.describe()"
      ],
      "metadata": {
        "colab": {
          "base_uri": "https://localhost:8080/",
          "height": 394
        },
        "id": "pRPnj4FJ1Nwj",
        "outputId": "ed6af1db-7330-4f0e-89d0-1c60d0398167"
      },
      "execution_count": 38,
      "outputs": [
        {
          "output_type": "execute_result",
          "data": {
            "text/plain": [
              "                  V1             V2             V3             V4  \\\n",
              "count    1212.000000    1212.000000    1212.000000    1212.000000   \n",
              "mean     8169.091881    8144.306262    8192.653738    8176.868738   \n",
              "std     17974.950461   17881.049734   18087.938901   17991.903982   \n",
              "min         0.920000       0.900000       0.850000       0.890000   \n",
              "25%        19.602500      19.595000      18.925000      19.277500   \n",
              "50%       301.425000     295.205000     297.260000     299.720000   \n",
              "75%      5358.795000    5417.847500    5393.367500    5388.482500   \n",
              "max    117807.870000  108896.480000  119031.350000  110212.590000   \n",
              "\n",
              "                  V5             V6             V7             V8  \\\n",
              "count    1212.000000    1212.000000    1212.000000    1212.000000   \n",
              "mean     8128.297211    8173.030008    8188.582748    8183.641543   \n",
              "std     17846.757963   17927.114105   18029.562695   18048.582159   \n",
              "min         0.880000       0.860000       0.870000       0.650000   \n",
              "25%        19.210000      19.582500      18.690000      19.062500   \n",
              "50%       295.115000     294.380000     295.935000     290.850000   \n",
              "75%      5321.987500    5328.040000    5443.977500    5283.655000   \n",
              "max    113000.470000  116848.390000  115609.240000  118522.320000   \n",
              "\n",
              "                  V9            V10  ...            V92            V93  \\\n",
              "count    1212.000000    1212.000000  ...    1212.000000    1212.000000   \n",
              "mean     8154.670066    8120.767574  ...    8120.056815    8125.917409   \n",
              "std     17982.390713   17900.798206  ...   17773.190621   17758.182403   \n",
              "min         0.650000       0.620000  ...       0.870000       0.900000   \n",
              "25%        19.532500      19.285000  ...      19.197500      18.895000   \n",
              "50%       294.565000     295.160000  ...     297.845000     295.420000   \n",
              "75%      5378.180000    5319.097500  ...    5355.355000    5386.037500   \n",
              "max    112895.900000  117798.300000  ...  113858.680000  112948.830000   \n",
              "\n",
              "                 V94            V95            V96            V97  \\\n",
              "count    1212.000000    1212.000000    1212.000000    1212.000000   \n",
              "mean     8158.793812    8140.885421    8213.480611    8185.594002   \n",
              "std     17919.510371   17817.945646   18016.445265   17956.084223   \n",
              "min         0.870000       0.880000       0.890000       0.890000   \n",
              "25%        19.237500      19.385000      19.027500      19.135000   \n",
              "50%       299.155000     293.355000     301.370000     296.960000   \n",
              "75%      5286.385000    5345.797500    5300.890000    5361.047500   \n",
              "max    112409.570000  112933.730000  112037.220000  115110.420000   \n",
              "\n",
              "                 V98            V99           V100        Class  \n",
              "count    1212.000000    1212.000000    1212.000000  1212.000000  \n",
              "mean     8140.195355    8192.960891    8156.197376     0.500000  \n",
              "std     17768.356106   18064.781479   17829.310973     0.500206  \n",
              "min         0.860000       0.910000       0.890000     0.000000  \n",
              "25%        19.205000      18.812500      19.145000     0.000000  \n",
              "50%       300.925000     299.200000     302.275000     0.500000  \n",
              "75%      5390.850000    5288.712500    5357.847500     1.000000  \n",
              "max    116431.960000  113291.960000  114533.760000     1.000000  \n",
              "\n",
              "[8 rows x 101 columns]"
            ],
            "text/html": [
              "\n",
              "  <div id=\"df-5028bc9f-d5e4-4a52-8fd8-f600a2e81c2a\">\n",
              "    <div class=\"colab-df-container\">\n",
              "      <div>\n",
              "<style scoped>\n",
              "    .dataframe tbody tr th:only-of-type {\n",
              "        vertical-align: middle;\n",
              "    }\n",
              "\n",
              "    .dataframe tbody tr th {\n",
              "        vertical-align: top;\n",
              "    }\n",
              "\n",
              "    .dataframe thead th {\n",
              "        text-align: right;\n",
              "    }\n",
              "</style>\n",
              "<table border=\"1\" class=\"dataframe\">\n",
              "  <thead>\n",
              "    <tr style=\"text-align: right;\">\n",
              "      <th></th>\n",
              "      <th>V1</th>\n",
              "      <th>V2</th>\n",
              "      <th>V3</th>\n",
              "      <th>V4</th>\n",
              "      <th>V5</th>\n",
              "      <th>V6</th>\n",
              "      <th>V7</th>\n",
              "      <th>V8</th>\n",
              "      <th>V9</th>\n",
              "      <th>V10</th>\n",
              "      <th>...</th>\n",
              "      <th>V92</th>\n",
              "      <th>V93</th>\n",
              "      <th>V94</th>\n",
              "      <th>V95</th>\n",
              "      <th>V96</th>\n",
              "      <th>V97</th>\n",
              "      <th>V98</th>\n",
              "      <th>V99</th>\n",
              "      <th>V100</th>\n",
              "      <th>Class</th>\n",
              "    </tr>\n",
              "  </thead>\n",
              "  <tbody>\n",
              "    <tr>\n",
              "      <th>count</th>\n",
              "      <td>1212.000000</td>\n",
              "      <td>1212.000000</td>\n",
              "      <td>1212.000000</td>\n",
              "      <td>1212.000000</td>\n",
              "      <td>1212.000000</td>\n",
              "      <td>1212.000000</td>\n",
              "      <td>1212.000000</td>\n",
              "      <td>1212.000000</td>\n",
              "      <td>1212.000000</td>\n",
              "      <td>1212.000000</td>\n",
              "      <td>...</td>\n",
              "      <td>1212.000000</td>\n",
              "      <td>1212.000000</td>\n",
              "      <td>1212.000000</td>\n",
              "      <td>1212.000000</td>\n",
              "      <td>1212.000000</td>\n",
              "      <td>1212.000000</td>\n",
              "      <td>1212.000000</td>\n",
              "      <td>1212.000000</td>\n",
              "      <td>1212.000000</td>\n",
              "      <td>1212.000000</td>\n",
              "    </tr>\n",
              "    <tr>\n",
              "      <th>mean</th>\n",
              "      <td>8169.091881</td>\n",
              "      <td>8144.306262</td>\n",
              "      <td>8192.653738</td>\n",
              "      <td>8176.868738</td>\n",
              "      <td>8128.297211</td>\n",
              "      <td>8173.030008</td>\n",
              "      <td>8188.582748</td>\n",
              "      <td>8183.641543</td>\n",
              "      <td>8154.670066</td>\n",
              "      <td>8120.767574</td>\n",
              "      <td>...</td>\n",
              "      <td>8120.056815</td>\n",
              "      <td>8125.917409</td>\n",
              "      <td>8158.793812</td>\n",
              "      <td>8140.885421</td>\n",
              "      <td>8213.480611</td>\n",
              "      <td>8185.594002</td>\n",
              "      <td>8140.195355</td>\n",
              "      <td>8192.960891</td>\n",
              "      <td>8156.197376</td>\n",
              "      <td>0.500000</td>\n",
              "    </tr>\n",
              "    <tr>\n",
              "      <th>std</th>\n",
              "      <td>17974.950461</td>\n",
              "      <td>17881.049734</td>\n",
              "      <td>18087.938901</td>\n",
              "      <td>17991.903982</td>\n",
              "      <td>17846.757963</td>\n",
              "      <td>17927.114105</td>\n",
              "      <td>18029.562695</td>\n",
              "      <td>18048.582159</td>\n",
              "      <td>17982.390713</td>\n",
              "      <td>17900.798206</td>\n",
              "      <td>...</td>\n",
              "      <td>17773.190621</td>\n",
              "      <td>17758.182403</td>\n",
              "      <td>17919.510371</td>\n",
              "      <td>17817.945646</td>\n",
              "      <td>18016.445265</td>\n",
              "      <td>17956.084223</td>\n",
              "      <td>17768.356106</td>\n",
              "      <td>18064.781479</td>\n",
              "      <td>17829.310973</td>\n",
              "      <td>0.500206</td>\n",
              "    </tr>\n",
              "    <tr>\n",
              "      <th>min</th>\n",
              "      <td>0.920000</td>\n",
              "      <td>0.900000</td>\n",
              "      <td>0.850000</td>\n",
              "      <td>0.890000</td>\n",
              "      <td>0.880000</td>\n",
              "      <td>0.860000</td>\n",
              "      <td>0.870000</td>\n",
              "      <td>0.650000</td>\n",
              "      <td>0.650000</td>\n",
              "      <td>0.620000</td>\n",
              "      <td>...</td>\n",
              "      <td>0.870000</td>\n",
              "      <td>0.900000</td>\n",
              "      <td>0.870000</td>\n",
              "      <td>0.880000</td>\n",
              "      <td>0.890000</td>\n",
              "      <td>0.890000</td>\n",
              "      <td>0.860000</td>\n",
              "      <td>0.910000</td>\n",
              "      <td>0.890000</td>\n",
              "      <td>0.000000</td>\n",
              "    </tr>\n",
              "    <tr>\n",
              "      <th>25%</th>\n",
              "      <td>19.602500</td>\n",
              "      <td>19.595000</td>\n",
              "      <td>18.925000</td>\n",
              "      <td>19.277500</td>\n",
              "      <td>19.210000</td>\n",
              "      <td>19.582500</td>\n",
              "      <td>18.690000</td>\n",
              "      <td>19.062500</td>\n",
              "      <td>19.532500</td>\n",
              "      <td>19.285000</td>\n",
              "      <td>...</td>\n",
              "      <td>19.197500</td>\n",
              "      <td>18.895000</td>\n",
              "      <td>19.237500</td>\n",
              "      <td>19.385000</td>\n",
              "      <td>19.027500</td>\n",
              "      <td>19.135000</td>\n",
              "      <td>19.205000</td>\n",
              "      <td>18.812500</td>\n",
              "      <td>19.145000</td>\n",
              "      <td>0.000000</td>\n",
              "    </tr>\n",
              "    <tr>\n",
              "      <th>50%</th>\n",
              "      <td>301.425000</td>\n",
              "      <td>295.205000</td>\n",
              "      <td>297.260000</td>\n",
              "      <td>299.720000</td>\n",
              "      <td>295.115000</td>\n",
              "      <td>294.380000</td>\n",
              "      <td>295.935000</td>\n",
              "      <td>290.850000</td>\n",
              "      <td>294.565000</td>\n",
              "      <td>295.160000</td>\n",
              "      <td>...</td>\n",
              "      <td>297.845000</td>\n",
              "      <td>295.420000</td>\n",
              "      <td>299.155000</td>\n",
              "      <td>293.355000</td>\n",
              "      <td>301.370000</td>\n",
              "      <td>296.960000</td>\n",
              "      <td>300.925000</td>\n",
              "      <td>299.200000</td>\n",
              "      <td>302.275000</td>\n",
              "      <td>0.500000</td>\n",
              "    </tr>\n",
              "    <tr>\n",
              "      <th>75%</th>\n",
              "      <td>5358.795000</td>\n",
              "      <td>5417.847500</td>\n",
              "      <td>5393.367500</td>\n",
              "      <td>5388.482500</td>\n",
              "      <td>5321.987500</td>\n",
              "      <td>5328.040000</td>\n",
              "      <td>5443.977500</td>\n",
              "      <td>5283.655000</td>\n",
              "      <td>5378.180000</td>\n",
              "      <td>5319.097500</td>\n",
              "      <td>...</td>\n",
              "      <td>5355.355000</td>\n",
              "      <td>5386.037500</td>\n",
              "      <td>5286.385000</td>\n",
              "      <td>5345.797500</td>\n",
              "      <td>5300.890000</td>\n",
              "      <td>5361.047500</td>\n",
              "      <td>5390.850000</td>\n",
              "      <td>5288.712500</td>\n",
              "      <td>5357.847500</td>\n",
              "      <td>1.000000</td>\n",
              "    </tr>\n",
              "    <tr>\n",
              "      <th>max</th>\n",
              "      <td>117807.870000</td>\n",
              "      <td>108896.480000</td>\n",
              "      <td>119031.350000</td>\n",
              "      <td>110212.590000</td>\n",
              "      <td>113000.470000</td>\n",
              "      <td>116848.390000</td>\n",
              "      <td>115609.240000</td>\n",
              "      <td>118522.320000</td>\n",
              "      <td>112895.900000</td>\n",
              "      <td>117798.300000</td>\n",
              "      <td>...</td>\n",
              "      <td>113858.680000</td>\n",
              "      <td>112948.830000</td>\n",
              "      <td>112409.570000</td>\n",
              "      <td>112933.730000</td>\n",
              "      <td>112037.220000</td>\n",
              "      <td>115110.420000</td>\n",
              "      <td>116431.960000</td>\n",
              "      <td>113291.960000</td>\n",
              "      <td>114533.760000</td>\n",
              "      <td>1.000000</td>\n",
              "    </tr>\n",
              "  </tbody>\n",
              "</table>\n",
              "<p>8 rows × 101 columns</p>\n",
              "</div>\n",
              "      <button class=\"colab-df-convert\" onclick=\"convertToInteractive('df-5028bc9f-d5e4-4a52-8fd8-f600a2e81c2a')\"\n",
              "              title=\"Convert this dataframe to an interactive table.\"\n",
              "              style=\"display:none;\">\n",
              "        \n",
              "  <svg xmlns=\"http://www.w3.org/2000/svg\" height=\"24px\"viewBox=\"0 0 24 24\"\n",
              "       width=\"24px\">\n",
              "    <path d=\"M0 0h24v24H0V0z\" fill=\"none\"/>\n",
              "    <path d=\"M18.56 5.44l.94 2.06.94-2.06 2.06-.94-2.06-.94-.94-2.06-.94 2.06-2.06.94zm-11 1L8.5 8.5l.94-2.06 2.06-.94-2.06-.94L8.5 2.5l-.94 2.06-2.06.94zm10 10l.94 2.06.94-2.06 2.06-.94-2.06-.94-.94-2.06-.94 2.06-2.06.94z\"/><path d=\"M17.41 7.96l-1.37-1.37c-.4-.4-.92-.59-1.43-.59-.52 0-1.04.2-1.43.59L10.3 9.45l-7.72 7.72c-.78.78-.78 2.05 0 2.83L4 21.41c.39.39.9.59 1.41.59.51 0 1.02-.2 1.41-.59l7.78-7.78 2.81-2.81c.8-.78.8-2.07 0-2.86zM5.41 20L4 18.59l7.72-7.72 1.47 1.35L5.41 20z\"/>\n",
              "  </svg>\n",
              "      </button>\n",
              "      \n",
              "  <style>\n",
              "    .colab-df-container {\n",
              "      display:flex;\n",
              "      flex-wrap:wrap;\n",
              "      gap: 12px;\n",
              "    }\n",
              "\n",
              "    .colab-df-convert {\n",
              "      background-color: #E8F0FE;\n",
              "      border: none;\n",
              "      border-radius: 50%;\n",
              "      cursor: pointer;\n",
              "      display: none;\n",
              "      fill: #1967D2;\n",
              "      height: 32px;\n",
              "      padding: 0 0 0 0;\n",
              "      width: 32px;\n",
              "    }\n",
              "\n",
              "    .colab-df-convert:hover {\n",
              "      background-color: #E2EBFA;\n",
              "      box-shadow: 0px 1px 2px rgba(60, 64, 67, 0.3), 0px 1px 3px 1px rgba(60, 64, 67, 0.15);\n",
              "      fill: #174EA6;\n",
              "    }\n",
              "\n",
              "    [theme=dark] .colab-df-convert {\n",
              "      background-color: #3B4455;\n",
              "      fill: #D2E3FC;\n",
              "    }\n",
              "\n",
              "    [theme=dark] .colab-df-convert:hover {\n",
              "      background-color: #434B5C;\n",
              "      box-shadow: 0px 1px 3px 1px rgba(0, 0, 0, 0.15);\n",
              "      filter: drop-shadow(0px 1px 2px rgba(0, 0, 0, 0.3));\n",
              "      fill: #FFFFFF;\n",
              "    }\n",
              "  </style>\n",
              "\n",
              "      <script>\n",
              "        const buttonEl =\n",
              "          document.querySelector('#df-5028bc9f-d5e4-4a52-8fd8-f600a2e81c2a button.colab-df-convert');\n",
              "        buttonEl.style.display =\n",
              "          google.colab.kernel.accessAllowed ? 'block' : 'none';\n",
              "\n",
              "        async function convertToInteractive(key) {\n",
              "          const element = document.querySelector('#df-5028bc9f-d5e4-4a52-8fd8-f600a2e81c2a');\n",
              "          const dataTable =\n",
              "            await google.colab.kernel.invokeFunction('convertToInteractive',\n",
              "                                                     [key], {});\n",
              "          if (!dataTable) return;\n",
              "\n",
              "          const docLinkHtml = 'Like what you see? Visit the ' +\n",
              "            '<a target=\"_blank\" href=https://colab.research.google.com/notebooks/data_table.ipynb>data table notebook</a>'\n",
              "            + ' to learn more about interactive tables.';\n",
              "          element.innerHTML = '';\n",
              "          dataTable['output_type'] = 'display_data';\n",
              "          await google.colab.output.renderOutput(dataTable, element);\n",
              "          const docLink = document.createElement('div');\n",
              "          docLink.innerHTML = docLinkHtml;\n",
              "          element.appendChild(docLink);\n",
              "        }\n",
              "      </script>\n",
              "    </div>\n",
              "  </div>\n",
              "  "
            ]
          },
          "metadata": {},
          "execution_count": 38
        }
      ]
    },
    {
      "cell_type": "code",
      "source": [
        "df.columns"
      ],
      "metadata": {
        "colab": {
          "base_uri": "https://localhost:8080/"
        },
        "id": "TNOROsac1VsW",
        "outputId": "2d9f79da-6229-4b38-c798-25183abd8204"
      },
      "execution_count": 39,
      "outputs": [
        {
          "output_type": "execute_result",
          "data": {
            "text/plain": [
              "Index(['V1', 'V2', 'V3', 'V4', 'V5', 'V6', 'V7', 'V8', 'V9', 'V10',\n",
              "       ...\n",
              "       'V92', 'V93', 'V94', 'V95', 'V96', 'V97', 'V98', 'V99', 'V100',\n",
              "       'Class'],\n",
              "      dtype='object', length=101)"
            ]
          },
          "metadata": {},
          "execution_count": 39
        }
      ]
    },
    {
      "cell_type": "markdown",
      "source": [
        "**All Columns name not printed**"
      ],
      "metadata": {
        "id": "xI1wju0q1bDA"
      }
    },
    {
      "cell_type": "code",
      "source": [
        "print(df.columns.tolist())"
      ],
      "metadata": {
        "colab": {
          "base_uri": "https://localhost:8080/"
        },
        "id": "n2zBim931hDQ",
        "outputId": "613c005a-9c97-4b86-c82e-97b77fc15a17"
      },
      "execution_count": 40,
      "outputs": [
        {
          "output_type": "stream",
          "name": "stdout",
          "text": [
            "['V1', 'V2', 'V3', 'V4', 'V5', 'V6', 'V7', 'V8', 'V9', 'V10', 'V11', 'V12', 'V13', 'V14', 'V15', 'V16', 'V17', 'V18', 'V19', 'V20', 'V21', 'V22', 'V23', 'V24', 'V25', 'V26', 'V27', 'V28', 'V29', 'V30', 'V31', 'V32', 'V33', 'V34', 'V35', 'V36', 'V37', 'V38', 'V39', 'V40', 'V41', 'V42', 'V43', 'V44', 'V45', 'V46', 'V47', 'V48', 'V49', 'V50', 'V51', 'V52', 'V53', 'V54', 'V55', 'V56', 'V57', 'V58', 'V59', 'V60', 'V61', 'V62', 'V63', 'V64', 'V65', 'V66', 'V67', 'V68', 'V69', 'V70', 'V71', 'V72', 'V73', 'V74', 'V75', 'V76', 'V77', 'V78', 'V79', 'V80', 'V81', 'V82', 'V83', 'V84', 'V85', 'V86', 'V87', 'V88', 'V89', 'V90', 'V91', 'V92', 'V93', 'V94', 'V95', 'V96', 'V97', 'V98', 'V99', 'V100', 'Class']\n"
          ]
        }
      ]
    },
    {
      "cell_type": "code",
      "source": [
        "df.shape"
      ],
      "metadata": {
        "colab": {
          "base_uri": "https://localhost:8080/"
        },
        "id": "v2v_bvXA1rc8",
        "outputId": "44731068-367a-4eed-f38f-5306b9744ce0"
      },
      "execution_count": 41,
      "outputs": [
        {
          "output_type": "execute_result",
          "data": {
            "text/plain": [
              "(1212, 101)"
            ]
          },
          "metadata": {},
          "execution_count": 41
        }
      ]
    },
    {
      "cell_type": "code",
      "source": [
        "df['Class'].value_counts()"
      ],
      "metadata": {
        "colab": {
          "base_uri": "https://localhost:8080/"
        },
        "id": "0f0l6RPY1t90",
        "outputId": "5856cf18-bb4d-42b8-fd0a-376d26acd7da"
      },
      "execution_count": 42,
      "outputs": [
        {
          "output_type": "execute_result",
          "data": {
            "text/plain": [
              "0    606\n",
              "1    606\n",
              "Name: Class, dtype: int64"
            ]
          },
          "metadata": {},
          "execution_count": 42
        }
      ]
    },
    {
      "cell_type": "code",
      "source": [
        "df.groupby('Class').mean()"
      ],
      "metadata": {
        "colab": {
          "base_uri": "https://localhost:8080/",
          "height": 237
        },
        "id": "hJpAWZ5-183D",
        "outputId": "a3de6bb9-30b8-4783-abef-cc177ccd8955"
      },
      "execution_count": 43,
      "outputs": [
        {
          "output_type": "execute_result",
          "data": {
            "text/plain": [
              "                V1           V2           V3           V4           V5  \\\n",
              "Class                                                                    \n",
              "0      7913.333251  7825.339967  7902.497294  7857.032079  7775.610198   \n",
              "1      8424.850512  8463.272558  8482.810182  8496.705396  8480.984224   \n",
              "\n",
              "                V6           V7           V8           V9          V10  ...  \\\n",
              "Class                                                                   ...   \n",
              "0      7875.436337  7804.166584  7722.324802  7793.328416  7686.782046  ...   \n",
              "1      8470.623680  8572.998911  8644.958284  8516.011716  8554.753102  ...   \n",
              "\n",
              "               V91          V92          V93          V94          V95  \\\n",
              "Class                                                                    \n",
              "0      7753.427244  7737.843366  7799.332079  7825.211700  7791.354010   \n",
              "1      8478.513399  8502.270264  8452.502739  8492.375924  8490.416832   \n",
              "\n",
              "               V96          V97          V98          V99         V100  \n",
              "Class                                                                   \n",
              "0      7927.237112  7874.502343  7844.227459  7875.338713  7855.181172  \n",
              "1      8499.724109  8496.685660  8436.163251  8510.583069  8457.213581  \n",
              "\n",
              "[2 rows x 100 columns]"
            ],
            "text/html": [
              "\n",
              "  <div id=\"df-de733e79-5935-4e6f-afa4-e8f944bae82b\">\n",
              "    <div class=\"colab-df-container\">\n",
              "      <div>\n",
              "<style scoped>\n",
              "    .dataframe tbody tr th:only-of-type {\n",
              "        vertical-align: middle;\n",
              "    }\n",
              "\n",
              "    .dataframe tbody tr th {\n",
              "        vertical-align: top;\n",
              "    }\n",
              "\n",
              "    .dataframe thead th {\n",
              "        text-align: right;\n",
              "    }\n",
              "</style>\n",
              "<table border=\"1\" class=\"dataframe\">\n",
              "  <thead>\n",
              "    <tr style=\"text-align: right;\">\n",
              "      <th></th>\n",
              "      <th>V1</th>\n",
              "      <th>V2</th>\n",
              "      <th>V3</th>\n",
              "      <th>V4</th>\n",
              "      <th>V5</th>\n",
              "      <th>V6</th>\n",
              "      <th>V7</th>\n",
              "      <th>V8</th>\n",
              "      <th>V9</th>\n",
              "      <th>V10</th>\n",
              "      <th>...</th>\n",
              "      <th>V91</th>\n",
              "      <th>V92</th>\n",
              "      <th>V93</th>\n",
              "      <th>V94</th>\n",
              "      <th>V95</th>\n",
              "      <th>V96</th>\n",
              "      <th>V97</th>\n",
              "      <th>V98</th>\n",
              "      <th>V99</th>\n",
              "      <th>V100</th>\n",
              "    </tr>\n",
              "    <tr>\n",
              "      <th>Class</th>\n",
              "      <th></th>\n",
              "      <th></th>\n",
              "      <th></th>\n",
              "      <th></th>\n",
              "      <th></th>\n",
              "      <th></th>\n",
              "      <th></th>\n",
              "      <th></th>\n",
              "      <th></th>\n",
              "      <th></th>\n",
              "      <th></th>\n",
              "      <th></th>\n",
              "      <th></th>\n",
              "      <th></th>\n",
              "      <th></th>\n",
              "      <th></th>\n",
              "      <th></th>\n",
              "      <th></th>\n",
              "      <th></th>\n",
              "      <th></th>\n",
              "      <th></th>\n",
              "    </tr>\n",
              "  </thead>\n",
              "  <tbody>\n",
              "    <tr>\n",
              "      <th>0</th>\n",
              "      <td>7913.333251</td>\n",
              "      <td>7825.339967</td>\n",
              "      <td>7902.497294</td>\n",
              "      <td>7857.032079</td>\n",
              "      <td>7775.610198</td>\n",
              "      <td>7875.436337</td>\n",
              "      <td>7804.166584</td>\n",
              "      <td>7722.324802</td>\n",
              "      <td>7793.328416</td>\n",
              "      <td>7686.782046</td>\n",
              "      <td>...</td>\n",
              "      <td>7753.427244</td>\n",
              "      <td>7737.843366</td>\n",
              "      <td>7799.332079</td>\n",
              "      <td>7825.211700</td>\n",
              "      <td>7791.354010</td>\n",
              "      <td>7927.237112</td>\n",
              "      <td>7874.502343</td>\n",
              "      <td>7844.227459</td>\n",
              "      <td>7875.338713</td>\n",
              "      <td>7855.181172</td>\n",
              "    </tr>\n",
              "    <tr>\n",
              "      <th>1</th>\n",
              "      <td>8424.850512</td>\n",
              "      <td>8463.272558</td>\n",
              "      <td>8482.810182</td>\n",
              "      <td>8496.705396</td>\n",
              "      <td>8480.984224</td>\n",
              "      <td>8470.623680</td>\n",
              "      <td>8572.998911</td>\n",
              "      <td>8644.958284</td>\n",
              "      <td>8516.011716</td>\n",
              "      <td>8554.753102</td>\n",
              "      <td>...</td>\n",
              "      <td>8478.513399</td>\n",
              "      <td>8502.270264</td>\n",
              "      <td>8452.502739</td>\n",
              "      <td>8492.375924</td>\n",
              "      <td>8490.416832</td>\n",
              "      <td>8499.724109</td>\n",
              "      <td>8496.685660</td>\n",
              "      <td>8436.163251</td>\n",
              "      <td>8510.583069</td>\n",
              "      <td>8457.213581</td>\n",
              "    </tr>\n",
              "  </tbody>\n",
              "</table>\n",
              "<p>2 rows × 100 columns</p>\n",
              "</div>\n",
              "      <button class=\"colab-df-convert\" onclick=\"convertToInteractive('df-de733e79-5935-4e6f-afa4-e8f944bae82b')\"\n",
              "              title=\"Convert this dataframe to an interactive table.\"\n",
              "              style=\"display:none;\">\n",
              "        \n",
              "  <svg xmlns=\"http://www.w3.org/2000/svg\" height=\"24px\"viewBox=\"0 0 24 24\"\n",
              "       width=\"24px\">\n",
              "    <path d=\"M0 0h24v24H0V0z\" fill=\"none\"/>\n",
              "    <path d=\"M18.56 5.44l.94 2.06.94-2.06 2.06-.94-2.06-.94-.94-2.06-.94 2.06-2.06.94zm-11 1L8.5 8.5l.94-2.06 2.06-.94-2.06-.94L8.5 2.5l-.94 2.06-2.06.94zm10 10l.94 2.06.94-2.06 2.06-.94-2.06-.94-.94-2.06-.94 2.06-2.06.94z\"/><path d=\"M17.41 7.96l-1.37-1.37c-.4-.4-.92-.59-1.43-.59-.52 0-1.04.2-1.43.59L10.3 9.45l-7.72 7.72c-.78.78-.78 2.05 0 2.83L4 21.41c.39.39.9.59 1.41.59.51 0 1.02-.2 1.41-.59l7.78-7.78 2.81-2.81c.8-.78.8-2.07 0-2.86zM5.41 20L4 18.59l7.72-7.72 1.47 1.35L5.41 20z\"/>\n",
              "  </svg>\n",
              "      </button>\n",
              "      \n",
              "  <style>\n",
              "    .colab-df-container {\n",
              "      display:flex;\n",
              "      flex-wrap:wrap;\n",
              "      gap: 12px;\n",
              "    }\n",
              "\n",
              "    .colab-df-convert {\n",
              "      background-color: #E8F0FE;\n",
              "      border: none;\n",
              "      border-radius: 50%;\n",
              "      cursor: pointer;\n",
              "      display: none;\n",
              "      fill: #1967D2;\n",
              "      height: 32px;\n",
              "      padding: 0 0 0 0;\n",
              "      width: 32px;\n",
              "    }\n",
              "\n",
              "    .colab-df-convert:hover {\n",
              "      background-color: #E2EBFA;\n",
              "      box-shadow: 0px 1px 2px rgba(60, 64, 67, 0.3), 0px 1px 3px 1px rgba(60, 64, 67, 0.15);\n",
              "      fill: #174EA6;\n",
              "    }\n",
              "\n",
              "    [theme=dark] .colab-df-convert {\n",
              "      background-color: #3B4455;\n",
              "      fill: #D2E3FC;\n",
              "    }\n",
              "\n",
              "    [theme=dark] .colab-df-convert:hover {\n",
              "      background-color: #434B5C;\n",
              "      box-shadow: 0px 1px 3px 1px rgba(0, 0, 0, 0.15);\n",
              "      filter: drop-shadow(0px 1px 2px rgba(0, 0, 0, 0.3));\n",
              "      fill: #FFFFFF;\n",
              "    }\n",
              "  </style>\n",
              "\n",
              "      <script>\n",
              "        const buttonEl =\n",
              "          document.querySelector('#df-de733e79-5935-4e6f-afa4-e8f944bae82b button.colab-df-convert');\n",
              "        buttonEl.style.display =\n",
              "          google.colab.kernel.accessAllowed ? 'block' : 'none';\n",
              "\n",
              "        async function convertToInteractive(key) {\n",
              "          const element = document.querySelector('#df-de733e79-5935-4e6f-afa4-e8f944bae82b');\n",
              "          const dataTable =\n",
              "            await google.colab.kernel.invokeFunction('convertToInteractive',\n",
              "                                                     [key], {});\n",
              "          if (!dataTable) return;\n",
              "\n",
              "          const docLinkHtml = 'Like what you see? Visit the ' +\n",
              "            '<a target=\"_blank\" href=https://colab.research.google.com/notebooks/data_table.ipynb>data table notebook</a>'\n",
              "            + ' to learn more about interactive tables.';\n",
              "          element.innerHTML = '';\n",
              "          dataTable['output_type'] = 'display_data';\n",
              "          await google.colab.output.renderOutput(dataTable, element);\n",
              "          const docLink = document.createElement('div');\n",
              "          docLink.innerHTML = docLinkHtml;\n",
              "          element.appendChild(docLink);\n",
              "        }\n",
              "      </script>\n",
              "    </div>\n",
              "  </div>\n",
              "  "
            ]
          },
          "metadata": {},
          "execution_count": 43
        }
      ]
    },
    {
      "cell_type": "code",
      "source": [
        "y = df['Class']"
      ],
      "metadata": {
        "id": "EwvYa50X2HAc"
      },
      "execution_count": 44,
      "outputs": []
    },
    {
      "cell_type": "code",
      "source": [
        "y.shape"
      ],
      "metadata": {
        "colab": {
          "base_uri": "https://localhost:8080/"
        },
        "id": "ltlqUgpc2V-w",
        "outputId": "3199ec0b-dff8-421e-bfdb-d3962b730b16"
      },
      "execution_count": 45,
      "outputs": [
        {
          "output_type": "execute_result",
          "data": {
            "text/plain": [
              "(1212,)"
            ]
          },
          "metadata": {},
          "execution_count": 45
        }
      ]
    },
    {
      "cell_type": "code",
      "source": [
        "y"
      ],
      "metadata": {
        "colab": {
          "base_uri": "https://localhost:8080/"
        },
        "id": "4dmN9F-R2ZbZ",
        "outputId": "667b323c-d3c4-4222-da09-51be0fdad31c"
      },
      "execution_count": 46,
      "outputs": [
        {
          "output_type": "execute_result",
          "data": {
            "text/plain": [
              "0       0\n",
              "1       1\n",
              "2       1\n",
              "3       0\n",
              "4       0\n",
              "       ..\n",
              "1207    1\n",
              "1208    0\n",
              "1209    1\n",
              "1210    1\n",
              "1211    0\n",
              "Name: Class, Length: 1212, dtype: int64"
            ]
          },
          "metadata": {},
          "execution_count": 46
        }
      ]
    },
    {
      "cell_type": "code",
      "source": [
        "X = df[['V1','V2','V3','V4','V5','V6','V7','V8','V9','V10','V11','V12','V13','V14','V15','V16','V17','V18','V19','V20','V21','V22','V23','V24','V25','V26','V27','V28','V29','V30','V31','V32','V33','V34','V35','V36','V37','V38','V39','V40','V41','V42','V43','V44','V45','V46','V47','V48','V49','V50','V51','V52','V53','V54','V55','V56','V57','V58','V59','V60','V61','V62','V63','V64','V65','V66','V67','V68','V69','V70','V71','V72','V73','V74','V75','V76','V77','V78','V79','V80','V81','V82','V83','V84','V85','V86','V87','V88','V89','V90','V91','V92','V93','V94','V95','V96','V97','V98','V99','V100']]"
      ],
      "metadata": {
        "id": "ZccvbXmW2bRv"
      },
      "execution_count": 47,
      "outputs": []
    },
    {
      "cell_type": "code",
      "source": [
        "X = df.drop('Class', axis=1)"
      ],
      "metadata": {
        "id": "y8eq31dc6jYL"
      },
      "execution_count": 48,
      "outputs": []
    },
    {
      "cell_type": "code",
      "source": [
        "X.shape"
      ],
      "metadata": {
        "colab": {
          "base_uri": "https://localhost:8080/"
        },
        "id": "uaP59zv06rQu",
        "outputId": "f6e9833a-5a9f-4063-9466-0125eee18d17"
      },
      "execution_count": 49,
      "outputs": [
        {
          "output_type": "execute_result",
          "data": {
            "text/plain": [
              "(1212, 100)"
            ]
          },
          "metadata": {},
          "execution_count": 49
        }
      ]
    },
    {
      "cell_type": "code",
      "source": [
        "X"
      ],
      "metadata": {
        "colab": {
          "base_uri": "https://localhost:8080/",
          "height": 488
        },
        "id": "3wCODDnf6wT7",
        "outputId": "4bacb31f-1096-44c9-ea4f-290ff329153d"
      },
      "execution_count": 50,
      "outputs": [
        {
          "output_type": "execute_result",
          "data": {
            "text/plain": [
              "            V1        V2        V3        V4        V5        V6        V7  \\\n",
              "0        39.02     36.49     38.20     38.85     39.38     39.74     37.02   \n",
              "1         1.83      1.71      1.77      1.77      1.68      1.78      1.80   \n",
              "2     68177.69  66138.42  72981.88  74304.33  67549.66  69367.34  69169.41   \n",
              "3     44889.06  39191.86  40728.46  38576.36  45876.06  47034.00  46611.43   \n",
              "4         5.70      5.40      5.28      5.38      5.27      5.61      6.00   \n",
              "...        ...       ...       ...       ...       ...       ...       ...   \n",
              "1207     13.00     12.87     13.27     13.04     13.19     12.53     14.31   \n",
              "1208     48.66     50.11     48.55     50.43     50.09     49.67     48.95   \n",
              "1209  10160.65   9048.63   8994.94   9514.39   9814.74  10195.24  10031.47   \n",
              "1210     34.81     35.07     34.98     32.37     34.16     34.03     33.31   \n",
              "1211   8489.43   7672.98   9132.14   7985.73   8226.85   8554.28   8838.87   \n",
              "\n",
              "            V8        V9       V10  ...       V91       V92       V93  \\\n",
              "0        39.53     38.81     38.79  ...     37.57     36.62     36.92   \n",
              "1         1.70      1.75      1.78  ...      1.71      1.80      1.79   \n",
              "2     73268.61  74465.84  72503.37  ...  69384.71  73438.88  71053.35   \n",
              "3     37668.32  40980.89  38466.15  ...  47653.60  42625.67  40684.20   \n",
              "4         5.38      5.34      5.87  ...      5.52      5.17      5.67   \n",
              "...        ...       ...       ...  ...       ...       ...       ...   \n",
              "1207     13.33     13.63     14.55  ...     12.89     12.48     12.15   \n",
              "1208     48.65     48.63     48.61  ...     47.45     46.93     49.61   \n",
              "1209  10202.28   9152.99   9591.75  ...  10413.41   9068.11   9191.80   \n",
              "1210     32.48     35.63     32.48  ...     33.18     32.76     35.03   \n",
              "1211   8967.24   8635.14   8544.37  ...   7747.70   8609.73   9209.48   \n",
              "\n",
              "           V94       V95       V96       V97       V98       V99      V100  \n",
              "0        38.80     38.52     38.07     36.73     39.46     37.50     39.10  \n",
              "1         1.77      1.74      1.74      1.80      1.78      1.75      1.69  \n",
              "2     71112.62  74916.48  72571.58  66348.97  71063.72  67404.27  74920.24  \n",
              "3     46960.73  44546.80  45410.53  47139.44  43095.68  40888.34  39615.19  \n",
              "4         5.60      5.94      5.73      5.22      5.30      5.73      5.91  \n",
              "...        ...       ...       ...       ...       ...       ...       ...  \n",
              "1207     13.15     12.35     13.58     13.86     12.88     13.87     13.51  \n",
              "1208     47.16     48.17     47.94     49.81     49.89     47.43     47.77  \n",
              "1209   9275.04   9848.18   9074.17   9601.74  10366.24   8997.60   9305.77  \n",
              "1210     32.89     31.91     33.85     35.28     32.49     32.83     34.82  \n",
              "1211   8496.33   8724.01   8219.99   8550.86   8679.43   8389.31   8712.80  \n",
              "\n",
              "[1212 rows x 100 columns]"
            ],
            "text/html": [
              "\n",
              "  <div id=\"df-252625c2-bd73-463d-acdf-a8ab2f3dc103\">\n",
              "    <div class=\"colab-df-container\">\n",
              "      <div>\n",
              "<style scoped>\n",
              "    .dataframe tbody tr th:only-of-type {\n",
              "        vertical-align: middle;\n",
              "    }\n",
              "\n",
              "    .dataframe tbody tr th {\n",
              "        vertical-align: top;\n",
              "    }\n",
              "\n",
              "    .dataframe thead th {\n",
              "        text-align: right;\n",
              "    }\n",
              "</style>\n",
              "<table border=\"1\" class=\"dataframe\">\n",
              "  <thead>\n",
              "    <tr style=\"text-align: right;\">\n",
              "      <th></th>\n",
              "      <th>V1</th>\n",
              "      <th>V2</th>\n",
              "      <th>V3</th>\n",
              "      <th>V4</th>\n",
              "      <th>V5</th>\n",
              "      <th>V6</th>\n",
              "      <th>V7</th>\n",
              "      <th>V8</th>\n",
              "      <th>V9</th>\n",
              "      <th>V10</th>\n",
              "      <th>...</th>\n",
              "      <th>V91</th>\n",
              "      <th>V92</th>\n",
              "      <th>V93</th>\n",
              "      <th>V94</th>\n",
              "      <th>V95</th>\n",
              "      <th>V96</th>\n",
              "      <th>V97</th>\n",
              "      <th>V98</th>\n",
              "      <th>V99</th>\n",
              "      <th>V100</th>\n",
              "    </tr>\n",
              "  </thead>\n",
              "  <tbody>\n",
              "    <tr>\n",
              "      <th>0</th>\n",
              "      <td>39.02</td>\n",
              "      <td>36.49</td>\n",
              "      <td>38.20</td>\n",
              "      <td>38.85</td>\n",
              "      <td>39.38</td>\n",
              "      <td>39.74</td>\n",
              "      <td>37.02</td>\n",
              "      <td>39.53</td>\n",
              "      <td>38.81</td>\n",
              "      <td>38.79</td>\n",
              "      <td>...</td>\n",
              "      <td>37.57</td>\n",
              "      <td>36.62</td>\n",
              "      <td>36.92</td>\n",
              "      <td>38.80</td>\n",
              "      <td>38.52</td>\n",
              "      <td>38.07</td>\n",
              "      <td>36.73</td>\n",
              "      <td>39.46</td>\n",
              "      <td>37.50</td>\n",
              "      <td>39.10</td>\n",
              "    </tr>\n",
              "    <tr>\n",
              "      <th>1</th>\n",
              "      <td>1.83</td>\n",
              "      <td>1.71</td>\n",
              "      <td>1.77</td>\n",
              "      <td>1.77</td>\n",
              "      <td>1.68</td>\n",
              "      <td>1.78</td>\n",
              "      <td>1.80</td>\n",
              "      <td>1.70</td>\n",
              "      <td>1.75</td>\n",
              "      <td>1.78</td>\n",
              "      <td>...</td>\n",
              "      <td>1.71</td>\n",
              "      <td>1.80</td>\n",
              "      <td>1.79</td>\n",
              "      <td>1.77</td>\n",
              "      <td>1.74</td>\n",
              "      <td>1.74</td>\n",
              "      <td>1.80</td>\n",
              "      <td>1.78</td>\n",
              "      <td>1.75</td>\n",
              "      <td>1.69</td>\n",
              "    </tr>\n",
              "    <tr>\n",
              "      <th>2</th>\n",
              "      <td>68177.69</td>\n",
              "      <td>66138.42</td>\n",
              "      <td>72981.88</td>\n",
              "      <td>74304.33</td>\n",
              "      <td>67549.66</td>\n",
              "      <td>69367.34</td>\n",
              "      <td>69169.41</td>\n",
              "      <td>73268.61</td>\n",
              "      <td>74465.84</td>\n",
              "      <td>72503.37</td>\n",
              "      <td>...</td>\n",
              "      <td>69384.71</td>\n",
              "      <td>73438.88</td>\n",
              "      <td>71053.35</td>\n",
              "      <td>71112.62</td>\n",
              "      <td>74916.48</td>\n",
              "      <td>72571.58</td>\n",
              "      <td>66348.97</td>\n",
              "      <td>71063.72</td>\n",
              "      <td>67404.27</td>\n",
              "      <td>74920.24</td>\n",
              "    </tr>\n",
              "    <tr>\n",
              "      <th>3</th>\n",
              "      <td>44889.06</td>\n",
              "      <td>39191.86</td>\n",
              "      <td>40728.46</td>\n",
              "      <td>38576.36</td>\n",
              "      <td>45876.06</td>\n",
              "      <td>47034.00</td>\n",
              "      <td>46611.43</td>\n",
              "      <td>37668.32</td>\n",
              "      <td>40980.89</td>\n",
              "      <td>38466.15</td>\n",
              "      <td>...</td>\n",
              "      <td>47653.60</td>\n",
              "      <td>42625.67</td>\n",
              "      <td>40684.20</td>\n",
              "      <td>46960.73</td>\n",
              "      <td>44546.80</td>\n",
              "      <td>45410.53</td>\n",
              "      <td>47139.44</td>\n",
              "      <td>43095.68</td>\n",
              "      <td>40888.34</td>\n",
              "      <td>39615.19</td>\n",
              "    </tr>\n",
              "    <tr>\n",
              "      <th>4</th>\n",
              "      <td>5.70</td>\n",
              "      <td>5.40</td>\n",
              "      <td>5.28</td>\n",
              "      <td>5.38</td>\n",
              "      <td>5.27</td>\n",
              "      <td>5.61</td>\n",
              "      <td>6.00</td>\n",
              "      <td>5.38</td>\n",
              "      <td>5.34</td>\n",
              "      <td>5.87</td>\n",
              "      <td>...</td>\n",
              "      <td>5.52</td>\n",
              "      <td>5.17</td>\n",
              "      <td>5.67</td>\n",
              "      <td>5.60</td>\n",
              "      <td>5.94</td>\n",
              "      <td>5.73</td>\n",
              "      <td>5.22</td>\n",
              "      <td>5.30</td>\n",
              "      <td>5.73</td>\n",
              "      <td>5.91</td>\n",
              "    </tr>\n",
              "    <tr>\n",
              "      <th>...</th>\n",
              "      <td>...</td>\n",
              "      <td>...</td>\n",
              "      <td>...</td>\n",
              "      <td>...</td>\n",
              "      <td>...</td>\n",
              "      <td>...</td>\n",
              "      <td>...</td>\n",
              "      <td>...</td>\n",
              "      <td>...</td>\n",
              "      <td>...</td>\n",
              "      <td>...</td>\n",
              "      <td>...</td>\n",
              "      <td>...</td>\n",
              "      <td>...</td>\n",
              "      <td>...</td>\n",
              "      <td>...</td>\n",
              "      <td>...</td>\n",
              "      <td>...</td>\n",
              "      <td>...</td>\n",
              "      <td>...</td>\n",
              "      <td>...</td>\n",
              "    </tr>\n",
              "    <tr>\n",
              "      <th>1207</th>\n",
              "      <td>13.00</td>\n",
              "      <td>12.87</td>\n",
              "      <td>13.27</td>\n",
              "      <td>13.04</td>\n",
              "      <td>13.19</td>\n",
              "      <td>12.53</td>\n",
              "      <td>14.31</td>\n",
              "      <td>13.33</td>\n",
              "      <td>13.63</td>\n",
              "      <td>14.55</td>\n",
              "      <td>...</td>\n",
              "      <td>12.89</td>\n",
              "      <td>12.48</td>\n",
              "      <td>12.15</td>\n",
              "      <td>13.15</td>\n",
              "      <td>12.35</td>\n",
              "      <td>13.58</td>\n",
              "      <td>13.86</td>\n",
              "      <td>12.88</td>\n",
              "      <td>13.87</td>\n",
              "      <td>13.51</td>\n",
              "    </tr>\n",
              "    <tr>\n",
              "      <th>1208</th>\n",
              "      <td>48.66</td>\n",
              "      <td>50.11</td>\n",
              "      <td>48.55</td>\n",
              "      <td>50.43</td>\n",
              "      <td>50.09</td>\n",
              "      <td>49.67</td>\n",
              "      <td>48.95</td>\n",
              "      <td>48.65</td>\n",
              "      <td>48.63</td>\n",
              "      <td>48.61</td>\n",
              "      <td>...</td>\n",
              "      <td>47.45</td>\n",
              "      <td>46.93</td>\n",
              "      <td>49.61</td>\n",
              "      <td>47.16</td>\n",
              "      <td>48.17</td>\n",
              "      <td>47.94</td>\n",
              "      <td>49.81</td>\n",
              "      <td>49.89</td>\n",
              "      <td>47.43</td>\n",
              "      <td>47.77</td>\n",
              "    </tr>\n",
              "    <tr>\n",
              "      <th>1209</th>\n",
              "      <td>10160.65</td>\n",
              "      <td>9048.63</td>\n",
              "      <td>8994.94</td>\n",
              "      <td>9514.39</td>\n",
              "      <td>9814.74</td>\n",
              "      <td>10195.24</td>\n",
              "      <td>10031.47</td>\n",
              "      <td>10202.28</td>\n",
              "      <td>9152.99</td>\n",
              "      <td>9591.75</td>\n",
              "      <td>...</td>\n",
              "      <td>10413.41</td>\n",
              "      <td>9068.11</td>\n",
              "      <td>9191.80</td>\n",
              "      <td>9275.04</td>\n",
              "      <td>9848.18</td>\n",
              "      <td>9074.17</td>\n",
              "      <td>9601.74</td>\n",
              "      <td>10366.24</td>\n",
              "      <td>8997.60</td>\n",
              "      <td>9305.77</td>\n",
              "    </tr>\n",
              "    <tr>\n",
              "      <th>1210</th>\n",
              "      <td>34.81</td>\n",
              "      <td>35.07</td>\n",
              "      <td>34.98</td>\n",
              "      <td>32.37</td>\n",
              "      <td>34.16</td>\n",
              "      <td>34.03</td>\n",
              "      <td>33.31</td>\n",
              "      <td>32.48</td>\n",
              "      <td>35.63</td>\n",
              "      <td>32.48</td>\n",
              "      <td>...</td>\n",
              "      <td>33.18</td>\n",
              "      <td>32.76</td>\n",
              "      <td>35.03</td>\n",
              "      <td>32.89</td>\n",
              "      <td>31.91</td>\n",
              "      <td>33.85</td>\n",
              "      <td>35.28</td>\n",
              "      <td>32.49</td>\n",
              "      <td>32.83</td>\n",
              "      <td>34.82</td>\n",
              "    </tr>\n",
              "    <tr>\n",
              "      <th>1211</th>\n",
              "      <td>8489.43</td>\n",
              "      <td>7672.98</td>\n",
              "      <td>9132.14</td>\n",
              "      <td>7985.73</td>\n",
              "      <td>8226.85</td>\n",
              "      <td>8554.28</td>\n",
              "      <td>8838.87</td>\n",
              "      <td>8967.24</td>\n",
              "      <td>8635.14</td>\n",
              "      <td>8544.37</td>\n",
              "      <td>...</td>\n",
              "      <td>7747.70</td>\n",
              "      <td>8609.73</td>\n",
              "      <td>9209.48</td>\n",
              "      <td>8496.33</td>\n",
              "      <td>8724.01</td>\n",
              "      <td>8219.99</td>\n",
              "      <td>8550.86</td>\n",
              "      <td>8679.43</td>\n",
              "      <td>8389.31</td>\n",
              "      <td>8712.80</td>\n",
              "    </tr>\n",
              "  </tbody>\n",
              "</table>\n",
              "<p>1212 rows × 100 columns</p>\n",
              "</div>\n",
              "      <button class=\"colab-df-convert\" onclick=\"convertToInteractive('df-252625c2-bd73-463d-acdf-a8ab2f3dc103')\"\n",
              "              title=\"Convert this dataframe to an interactive table.\"\n",
              "              style=\"display:none;\">\n",
              "        \n",
              "  <svg xmlns=\"http://www.w3.org/2000/svg\" height=\"24px\"viewBox=\"0 0 24 24\"\n",
              "       width=\"24px\">\n",
              "    <path d=\"M0 0h24v24H0V0z\" fill=\"none\"/>\n",
              "    <path d=\"M18.56 5.44l.94 2.06.94-2.06 2.06-.94-2.06-.94-.94-2.06-.94 2.06-2.06.94zm-11 1L8.5 8.5l.94-2.06 2.06-.94-2.06-.94L8.5 2.5l-.94 2.06-2.06.94zm10 10l.94 2.06.94-2.06 2.06-.94-2.06-.94-.94-2.06-.94 2.06-2.06.94z\"/><path d=\"M17.41 7.96l-1.37-1.37c-.4-.4-.92-.59-1.43-.59-.52 0-1.04.2-1.43.59L10.3 9.45l-7.72 7.72c-.78.78-.78 2.05 0 2.83L4 21.41c.39.39.9.59 1.41.59.51 0 1.02-.2 1.41-.59l7.78-7.78 2.81-2.81c.8-.78.8-2.07 0-2.86zM5.41 20L4 18.59l7.72-7.72 1.47 1.35L5.41 20z\"/>\n",
              "  </svg>\n",
              "      </button>\n",
              "      \n",
              "  <style>\n",
              "    .colab-df-container {\n",
              "      display:flex;\n",
              "      flex-wrap:wrap;\n",
              "      gap: 12px;\n",
              "    }\n",
              "\n",
              "    .colab-df-convert {\n",
              "      background-color: #E8F0FE;\n",
              "      border: none;\n",
              "      border-radius: 50%;\n",
              "      cursor: pointer;\n",
              "      display: none;\n",
              "      fill: #1967D2;\n",
              "      height: 32px;\n",
              "      padding: 0 0 0 0;\n",
              "      width: 32px;\n",
              "    }\n",
              "\n",
              "    .colab-df-convert:hover {\n",
              "      background-color: #E2EBFA;\n",
              "      box-shadow: 0px 1px 2px rgba(60, 64, 67, 0.3), 0px 1px 3px 1px rgba(60, 64, 67, 0.15);\n",
              "      fill: #174EA6;\n",
              "    }\n",
              "\n",
              "    [theme=dark] .colab-df-convert {\n",
              "      background-color: #3B4455;\n",
              "      fill: #D2E3FC;\n",
              "    }\n",
              "\n",
              "    [theme=dark] .colab-df-convert:hover {\n",
              "      background-color: #434B5C;\n",
              "      box-shadow: 0px 1px 3px 1px rgba(0, 0, 0, 0.15);\n",
              "      filter: drop-shadow(0px 1px 2px rgba(0, 0, 0, 0.3));\n",
              "      fill: #FFFFFF;\n",
              "    }\n",
              "  </style>\n",
              "\n",
              "      <script>\n",
              "        const buttonEl =\n",
              "          document.querySelector('#df-252625c2-bd73-463d-acdf-a8ab2f3dc103 button.colab-df-convert');\n",
              "        buttonEl.style.display =\n",
              "          google.colab.kernel.accessAllowed ? 'block' : 'none';\n",
              "\n",
              "        async function convertToInteractive(key) {\n",
              "          const element = document.querySelector('#df-252625c2-bd73-463d-acdf-a8ab2f3dc103');\n",
              "          const dataTable =\n",
              "            await google.colab.kernel.invokeFunction('convertToInteractive',\n",
              "                                                     [key], {});\n",
              "          if (!dataTable) return;\n",
              "\n",
              "          const docLinkHtml = 'Like what you see? Visit the ' +\n",
              "            '<a target=\"_blank\" href=https://colab.research.google.com/notebooks/data_table.ipynb>data table notebook</a>'\n",
              "            + ' to learn more about interactive tables.';\n",
              "          element.innerHTML = '';\n",
              "          dataTable['output_type'] = 'display_data';\n",
              "          await google.colab.output.renderOutput(dataTable, element);\n",
              "          const docLink = document.createElement('div');\n",
              "          docLink.innerHTML = docLinkHtml;\n",
              "          element.appendChild(docLink);\n",
              "        }\n",
              "      </script>\n",
              "    </div>\n",
              "  </div>\n",
              "  "
            ]
          },
          "metadata": {},
          "execution_count": 50
        }
      ]
    },
    {
      "cell_type": "markdown",
      "source": [
        "**Get Plot of First Two Rows**"
      ],
      "metadata": {
        "id": "TxmJWmb164zB"
      }
    },
    {
      "cell_type": "code",
      "source": [
        "import matplotlib.pyplot as plt"
      ],
      "metadata": {
        "id": "VBDeNgkf6_c0"
      },
      "execution_count": 51,
      "outputs": []
    },
    {
      "cell_type": "code",
      "source": [
        "plt.plot(X.iloc[0,:])\n",
        "plt.title('Valley');"
      ],
      "metadata": {
        "colab": {
          "base_uri": "https://localhost:8080/",
          "height": 281
        },
        "id": "2D3u1k2Q7F2r",
        "outputId": "32c37fb2-c4c9-4ac1-f95e-d4c3b43b4b6e"
      },
      "execution_count": 52,
      "outputs": [
        {
          "output_type": "display_data",
          "data": {
            "text/plain": [
              "<Figure size 432x288 with 1 Axes>"
            ],
            "image/png": "[encoded data removed]"
          },
          "metadata": {
            "needs_background": "light"
          }
        }
      ]
    },
    {
      "cell_type": "code",
      "source": [
        "plt.plot(X.iloc[1,:])\n",
        "plt.title('Hill');"
      ],
      "metadata": {
        "colab": {
          "base_uri": "https://localhost:8080/",
          "height": 281
        },
        "id": "KM34jfwJ7VKo",
        "outputId": "2a1a126a-08a4-4284-cfe5-f0a4d38fe9cb"
      },
      "execution_count": 53,
      "outputs": [
        {
          "output_type": "display_data",
          "data": {
            "text/plain": [
              "<Figure size 432x288 with 1 Axes>"
            ],
            "image/png": "[encoded data removed]"
          },
          "metadata": {
            "needs_background": "light"
          }
        }
      ]
    },
    {
      "cell_type": "markdown",
      "source": [
        "**Get X Variable Standardized**"
      ],
      "metadata": {
        "id": "vdRT3lRN71Ou"
      }
    },
    {
      "cell_type": "code",
      "source": [
        "from sklearn.preprocessing import StandardScaler"
      ],
      "metadata": {
        "id": "itnIk3BN7-AT"
      },
      "execution_count": 54,
      "outputs": []
    },
    {
      "cell_type": "code",
      "source": [
        "ss = StandardScaler()"
      ],
      "metadata": {
        "id": "WwlwsWOl8xvR"
      },
      "execution_count": 55,
      "outputs": []
    },
    {
      "cell_type": "code",
      "source": [
        "X = ss.fit_transform(X)"
      ],
      "metadata": {
        "id": "Ns7SwLZg83ub"
      },
      "execution_count": 56,
      "outputs": []
    },
    {
      "cell_type": "code",
      "source": [
        "X"
      ],
      "metadata": {
        "colab": {
          "base_uri": "https://localhost:8080/"
        },
        "id": "kdrL5-NO8_wy",
        "outputId": "f2e8139d-85ba-45c3-e040-2833355da8d2"
      },
      "execution_count": 57,
      "outputs": [
        {
          "output_type": "execute_result",
          "data": {
            "text/plain": [
              "array([[-0.45248681, -0.45361784, -0.45100881, ..., -0.45609618,\n",
              "        -0.45164274, -0.45545496],\n",
              "       [-0.45455665, -0.45556372, -0.45302369, ..., -0.45821768,\n",
              "        -0.45362255, -0.45755405],\n",
              "       [ 3.33983504,  3.24466709,  3.58338069, ...,  3.5427869 ,\n",
              "         3.27907378,  3.74616847],\n",
              "       ...,\n",
              "       [ 0.11084204,  0.0505953 ,  0.04437307, ...,  0.12533312,\n",
              "         0.04456025,  0.06450317],\n",
              "       [-0.45272112, -0.45369729, -0.45118691, ..., -0.45648861,\n",
              "        -0.45190136, -0.45569511],\n",
              "       [ 0.01782872, -0.02636986,  0.05196137, ...,  0.03036056,\n",
              "         0.01087365,  0.03123129]])"
            ]
          },
          "metadata": {},
          "execution_count": 57
        }
      ]
    },
    {
      "cell_type": "code",
      "source": [
        "X.shape"
      ],
      "metadata": {
        "colab": {
          "base_uri": "https://localhost:8080/"
        },
        "id": "SYLs14eT9EQV",
        "outputId": "c416c713-5783-48c9-8ac3-1bc3139629b4"
      },
      "execution_count": 58,
      "outputs": [
        {
          "output_type": "execute_result",
          "data": {
            "text/plain": [
              "(1212, 100)"
            ]
          },
          "metadata": {},
          "execution_count": 58
        }
      ]
    },
    {
      "cell_type": "markdown",
      "source": [
        "**Get Train Test Split**"
      ],
      "metadata": {
        "id": "2DnZr0Te9HJZ"
      }
    },
    {
      "cell_type": "code",
      "source": [
        "from sklearn.model_selection import train_test_split"
      ],
      "metadata": {
        "id": "gDsS5ZNU9NW_"
      },
      "execution_count": 59,
      "outputs": []
    },
    {
      "cell_type": "code",
      "source": [
        "X_train, X_test, y_train, y_test = train_test_split(X,y, test_size = 0.3, stratify = y, random_state=222529)"
      ],
      "metadata": {
        "id": "xZJ5A4Iw9WS9"
      },
      "execution_count": 60,
      "outputs": []
    },
    {
      "cell_type": "code",
      "source": [
        "X_train.shape, X_test.shape, y_train.shape, y_test.shape"
      ],
      "metadata": {
        "colab": {
          "base_uri": "https://localhost:8080/"
        },
        "id": "ZiWhLtWn9_yd",
        "outputId": "d0bd151b-923e-4ea2-f3fe-65dac5703e28"
      },
      "execution_count": 61,
      "outputs": [
        {
          "output_type": "execute_result",
          "data": {
            "text/plain": [
              "((848, 100), (364, 100), (848,), (364,))"
            ]
          },
          "metadata": {},
          "execution_count": 61
        }
      ]
    },
    {
      "cell_type": "markdown",
      "source": [
        "**Get Model Train**"
      ],
      "metadata": {
        "id": "16HXgJXi-U1U"
      }
    },
    {
      "cell_type": "code",
      "source": [
        "from sklearn.linear_model import LogisticRegression"
      ],
      "metadata": {
        "id": "NZU2fD1F-bY1"
      },
      "execution_count": 62,
      "outputs": []
    },
    {
      "cell_type": "code",
      "source": [
        "lr = LogisticRegression()"
      ],
      "metadata": {
        "id": "qXgmO7FV-lWZ"
      },
      "execution_count": 63,
      "outputs": []
    },
    {
      "cell_type": "code",
      "source": [
        "lr.fit(X_train, y_train)"
      ],
      "metadata": {
        "colab": {
          "base_uri": "https://localhost:8080/"
        },
        "id": "5be0UGML-p0P",
        "outputId": "cb08259a-ac7e-43c2-85f6-72945a775fa1"
      },
      "execution_count": 64,
      "outputs": [
        {
          "output_type": "stream",
          "name": "stderr",
          "text": [
            "/usr/local/lib/python3.7/dist-packages/sklearn/linear_model/_logistic.py:818: ConvergenceWarning: lbfgs failed to converge (status=1):\n",
            "STOP: TOTAL NO. of ITERATIONS REACHED LIMIT.\n",
            "\n",
            "Increase the number of iterations (max_iter) or scale the data as shown in:\n",
            "    https://scikit-learn.org/stable/modules/preprocessing.html\n",
            "Please also refer to the documentation for alternative solver options:\n",
            "    https://scikit-learn.org/stable/modules/linear_model.html#logistic-regression\n",
            "  extra_warning_msg=_LOGISTIC_SOLVER_CONVERGENCE_MSG,\n"
          ]
        },
        {
          "output_type": "execute_result",
          "data": {
            "text/plain": [
              "LogisticRegression()"
            ]
          },
          "metadata": {},
          "execution_count": 64
        }
      ]
    },
    {
      "cell_type": "markdown",
      "source": [
        "**Get Model Prediction**"
      ],
      "metadata": {
        "id": "N-fd3YCoAKWd"
      }
    },
    {
      "cell_type": "code",
      "source": [
        "y_pred = lr.predict(X_test)"
      ],
      "metadata": {
        "id": "3GVMMPXjAGAg"
      },
      "execution_count": 65,
      "outputs": []
    },
    {
      "cell_type": "code",
      "source": [
        "y_pred.shape"
      ],
      "metadata": {
        "colab": {
          "base_uri": "https://localhost:8080/"
        },
        "id": "VsE4kCDzAY_0",
        "outputId": "2cb8e6e4-c74b-4ac7-83f8-9a3a1288fa8f"
      },
      "execution_count": 66,
      "outputs": [
        {
          "output_type": "execute_result",
          "data": {
            "text/plain": [
              "(364,)"
            ]
          },
          "metadata": {},
          "execution_count": 66
        }
      ]
    },
    {
      "cell_type": "code",
      "source": [
        "y_pred"
      ],
      "metadata": {
        "colab": {
          "base_uri": "https://localhost:8080/"
        },
        "id": "fJTeZwd9AeRg",
        "outputId": "206fadec-5038-4adc-e05a-cc13ee3a7c3c"
      },
      "execution_count": 67,
      "outputs": [
        {
          "output_type": "execute_result",
          "data": {
            "text/plain": [
              "array([0, 0, 1, 0, 0, 0, 0, 1, 0, 0, 0, 0, 0, 1, 0, 0, 0, 0, 1, 1, 1, 0,\n",
              "       0, 0, 0, 0, 0, 0, 1, 0, 0, 0, 0, 0, 0, 1, 0, 0, 0, 1, 0, 1, 0, 1,\n",
              "       0, 1, 0, 1, 0, 1, 0, 0, 0, 0, 1, 0, 1, 1, 0, 0, 0, 0, 0, 0, 1, 0,\n",
              "       0, 1, 0, 0, 0, 0, 0, 0, 1, 0, 0, 1, 0, 1, 0, 0, 0, 0, 0, 1, 0, 0,\n",
              "       1, 0, 0, 1, 0, 0, 0, 0, 0, 0, 0, 0, 0, 0, 0, 0, 0, 0, 1, 1, 0, 1,\n",
              "       0, 0, 0, 0, 0, 0, 1, 0, 0, 1, 1, 0, 0, 0, 0, 1, 0, 1, 0, 0, 1, 1,\n",
              "       0, 1, 0, 0, 0, 0, 0, 0, 0, 0, 1, 0, 1, 1, 0, 0, 0, 0, 1, 0, 0, 1,\n",
              "       1, 0, 1, 0, 1, 0, 0, 0, 0, 0, 0, 0, 0, 0, 0, 0, 0, 0, 0, 0, 1, 0,\n",
              "       0, 0, 1, 1, 0, 1, 0, 0, 0, 0, 1, 0, 0, 0, 0, 0, 0, 0, 0, 0, 0, 1,\n",
              "       0, 0, 0, 1, 0, 0, 1, 0, 0, 0, 0, 0, 0, 0, 0, 1, 0, 1, 0, 1, 0, 0,\n",
              "       0, 0, 0, 1, 0, 0, 1, 0, 0, 0, 0, 0, 0, 0, 0, 1, 0, 1, 0, 1, 1, 1,\n",
              "       0, 1, 0, 0, 1, 0, 0, 0, 0, 0, 0, 0, 0, 0, 0, 1, 1, 1, 1, 1, 1, 1,\n",
              "       0, 0, 0, 0, 0, 0, 0, 0, 0, 0, 1, 1, 0, 0, 0, 0, 1, 0, 1, 1, 0, 0,\n",
              "       1, 0, 0, 0, 0, 0, 1, 1, 1, 0, 0, 0, 0, 1, 0, 0, 1, 0, 0, 0, 0, 0,\n",
              "       0, 1, 0, 0, 0, 0, 0, 1, 1, 0, 0, 0, 1, 1, 0, 1, 0, 0, 0, 0, 0, 0,\n",
              "       0, 0, 0, 1, 1, 0, 0, 0, 1, 0, 1, 0, 0, 0, 0, 1, 0, 0, 0, 0, 1, 1,\n",
              "       0, 1, 0, 0, 0, 0, 0, 0, 0, 0, 0, 1])"
            ]
          },
          "metadata": {},
          "execution_count": 67
        }
      ]
    },
    {
      "cell_type": "markdown",
      "source": [
        "**Get Probabilty of Each Predicted Class**"
      ],
      "metadata": {
        "id": "OBYP1_wyAkG4"
      }
    },
    {
      "cell_type": "code",
      "source": [
        "lr.predict_proba(X_test)"
      ],
      "metadata": {
        "colab": {
          "base_uri": "https://localhost:8080/"
        },
        "id": "lwl0lbrMBbxd",
        "outputId": "739cba34-0baf-4871-8dc8-01d79aacac42"
      },
      "execution_count": 68,
      "outputs": [
        {
          "output_type": "execute_result",
          "data": {
            "text/plain": [
              "array([[0.50455611, 0.49544389],\n",
              "       [0.50283217, 0.49716783],\n",
              "       [0.49277934, 0.50722066],\n",
              "       [0.50274749, 0.49725251],\n",
              "       [0.54478387, 0.45521613],\n",
              "       [0.50298618, 0.49701382],\n",
              "       [0.50119146, 0.49880854],\n",
              "       [0.49223297, 0.50776703],\n",
              "       [0.50876387, 0.49123613],\n",
              "       [0.50332432, 0.49667568],\n",
              "       [0.50251399, 0.49748601],\n",
              "       [0.50532825, 0.49467175],\n",
              "       [0.50463629, 0.49536371],\n",
              "       [0.49973389, 0.50026611],\n",
              "       [0.50283085, 0.49716915],\n",
              "       [0.50278581, 0.49721419],\n",
              "       [0.51239085, 0.48760915],\n",
              "       [0.5023547 , 0.4976453 ],\n",
              "       [0.20627407, 0.79372593],\n",
              "       [0.10914998, 0.89085002],\n",
              "       [0.48546087, 0.51453913],\n",
              "       [0.50279189, 0.49720811],\n",
              "       [0.5028547 , 0.4971453 ],\n",
              "       [0.76268627, 0.23731373],\n",
              "       [0.50167822, 0.49832178],\n",
              "       [0.50289278, 0.49710722],\n",
              "       [0.53253265, 0.46746735],\n",
              "       [0.99258103, 0.00741897],\n",
              "       [0.47426008, 0.52573992],\n",
              "       [0.50262611, 0.49737389],\n",
              "       [0.50210959, 0.49789041],\n",
              "       [0.50102775, 0.49897225],\n",
              "       [0.50488392, 0.49511608],\n",
              "       [0.50285085, 0.49714915],\n",
              "       [0.50284588, 0.49715412],\n",
              "       [0.13516554, 0.86483446],\n",
              "       [0.50339602, 0.49660398],\n",
              "       [0.50081678, 0.49918322],\n",
              "       [0.55798482, 0.44201518],\n",
              "       [0.48321017, 0.51678983],\n",
              "       [0.50965722, 0.49034278],\n",
              "       [0.4786626 , 0.5213374 ],\n",
              "       [0.58807497, 0.41192503],\n",
              "       [0.39688386, 0.60311614],\n",
              "       [0.50286938, 0.49713062],\n",
              "       [0.49181189, 0.50818811],\n",
              "       [0.99424524, 0.00575476],\n",
              "       [0.09771122, 0.90228878],\n",
              "       [0.50270532, 0.49729468],\n",
              "       [0.4947379 , 0.5052621 ],\n",
              "       [0.50286312, 0.49713688],\n",
              "       [0.51996225, 0.48003775],\n",
              "       [0.50417554, 0.49582446],\n",
              "       [0.50283261, 0.49716739],\n",
              "       [0.29161404, 0.70838596],\n",
              "       [0.53166181, 0.46833819],\n",
              "       [0.49532474, 0.50467526],\n",
              "       [0.49950211, 0.50049789],\n",
              "       [0.5372741 , 0.4627259 ],\n",
              "       [0.99797148, 0.00202852],\n",
              "       [0.50235159, 0.49764841],\n",
              "       [0.50270752, 0.49729248],\n",
              "       [0.50318191, 0.49681809],\n",
              "       [0.50336435, 0.49663565],\n",
              "       [0.0264181 , 0.9735819 ],\n",
              "       [0.50287455, 0.49712545],\n",
              "       [0.50281981, 0.49718019],\n",
              "       [0.31149001, 0.68850999],\n",
              "       [0.50014958, 0.49985042],\n",
              "       [0.53441078, 0.46558922],\n",
              "       [0.50393948, 0.49606052],\n",
              "       [0.57931996, 0.42068004],\n",
              "       [0.50478101, 0.49521899],\n",
              "       [0.50133837, 0.49866163],\n",
              "       [0.48772439, 0.51227561],\n",
              "       [0.55203326, 0.44796674],\n",
              "       [0.50404918, 0.49595082],\n",
              "       [0.45800703, 0.54199297],\n",
              "       [0.50229562, 0.49770438],\n",
              "       [0.2897448 , 0.7102552 ],\n",
              "       [0.5595809 , 0.4404191 ],\n",
              "       [0.50283441, 0.49716559],\n",
              "       [0.5029501 , 0.4970499 ],\n",
              "       [0.50299901, 0.49700099],\n",
              "       [0.50037258, 0.49962742],\n",
              "       [0.43565411, 0.56434589],\n",
              "       [0.5028035 , 0.4971965 ],\n",
              "       [0.5443927 , 0.4556073 ],\n",
              "       [0.44702454, 0.55297546],\n",
              "       [0.50405971, 0.49594029],\n",
              "       [0.50283107, 0.49716893],\n",
              "       [0.10064071, 0.89935929],\n",
              "       [0.50276593, 0.49723407],\n",
              "       [0.5021323 , 0.4978677 ],\n",
              "       [0.50652992, 0.49347008],\n",
              "       [0.50280122, 0.49719878],\n",
              "       [0.53670346, 0.46329654],\n",
              "       [0.54190381, 0.45809619],\n",
              "       [0.50277231, 0.49722769],\n",
              "       [0.75257058, 0.24742942],\n",
              "       [0.6326404 , 0.3673596 ],\n",
              "       [0.62338833, 0.37661167],\n",
              "       [0.50280013, 0.49719987],\n",
              "       [0.50296851, 0.49703149],\n",
              "       [0.5045203 , 0.4954797 ],\n",
              "       [0.50278484, 0.49721516],\n",
              "       [0.19535121, 0.80464879],\n",
              "       [0.27680627, 0.72319373],\n",
              "       [0.51989877, 0.48010123],\n",
              "       [0.49970134, 0.50029866],\n",
              "       [0.50269094, 0.49730906],\n",
              "       [0.50285324, 0.49714676],\n",
              "       [0.50289641, 0.49710359],\n",
              "       [0.50148968, 0.49851032],\n",
              "       [0.50286058, 0.49713942],\n",
              "       [0.50293802, 0.49706198],\n",
              "       [0.4475666 , 0.5524334 ],\n",
              "       [0.50281035, 0.49718965],\n",
              "       [0.50286606, 0.49713394],\n",
              "       [0.49844096, 0.50155904],\n",
              "       [0.4993676 , 0.5006324 ],\n",
              "       [0.50431686, 0.49568314],\n",
              "       [0.93526333, 0.06473667],\n",
              "       [0.50118607, 0.49881393],\n",
              "       [0.5191321 , 0.4808679 ],\n",
              "       [0.49412681, 0.50587319],\n",
              "       [0.50286854, 0.49713146],\n",
              "       [0.49368813, 0.50631187],\n",
              "       [0.50280176, 0.49719824],\n",
              "       [0.60656952, 0.39343048],\n",
              "       [0.49653686, 0.50346314],\n",
              "       [0.49453392, 0.50546608],\n",
              "       [0.58904394, 0.41095606],\n",
              "       [0.01602817, 0.98397183],\n",
              "       [0.50274689, 0.49725311],\n",
              "       [0.51782121, 0.48217879],\n",
              "       [0.50298754, 0.49701246],\n",
              "       [0.50272746, 0.49727254],\n",
              "       [0.50280372, 0.49719628],\n",
              "       [0.50088408, 0.49911592],\n",
              "       [0.5027997 , 0.4972003 ],\n",
              "       [0.53442506, 0.46557494],\n",
              "       [0.46540514, 0.53459486],\n",
              "       [0.50283398, 0.49716602],\n",
              "       [0.45751427, 0.54248573],\n",
              "       [0.28100445, 0.71899555],\n",
              "       [0.50295803, 0.49704197],\n",
              "       [0.50208276, 0.49791724],\n",
              "       [0.50285337, 0.49714663],\n",
              "       [0.53242633, 0.46757367],\n",
              "       [0.47898246, 0.52101754],\n",
              "       [0.78695788, 0.21304212],\n",
              "       [0.5027857 , 0.4972143 ],\n",
              "       [0.00636871, 0.99363129],\n",
              "       [0.33428986, 0.66571014],\n",
              "       [0.50283671, 0.49716329],\n",
              "       [0.04179274, 0.95820726],\n",
              "       [0.50285377, 0.49714623],\n",
              "       [0.47811578, 0.52188422],\n",
              "       [0.50376642, 0.49623358],\n",
              "       [0.50280473, 0.49719527],\n",
              "       [0.50292897, 0.49707103],\n",
              "       [0.50356916, 0.49643084],\n",
              "       [0.50239919, 0.49760081],\n",
              "       [0.50284335, 0.49715665],\n",
              "       [0.50003321, 0.49996679],\n",
              "       [0.50378447, 0.49621553],\n",
              "       [0.50263921, 0.49736079],\n",
              "       [0.50291739, 0.49708261],\n",
              "       [0.58363276, 0.41636724],\n",
              "       [0.50285421, 0.49714579],\n",
              "       [0.5281755 , 0.4718245 ],\n",
              "       [0.50286108, 0.49713892],\n",
              "       [0.50303025, 0.49696975],\n",
              "       [0.48560435, 0.51439565],\n",
              "       [0.50306505, 0.49693495],\n",
              "       [0.90974728, 0.09025272],\n",
              "       [0.50031318, 0.49968682],\n",
              "       [0.48933335, 0.51066665],\n",
              "       [0.14083322, 0.85916678],\n",
              "       [0.50205323, 0.49794677],\n",
              "       [0.49758274, 0.50241726],\n",
              "       [0.50275861, 0.49724139],\n",
              "       [0.50276508, 0.49723492],\n",
              "       [0.50464691, 0.49535309],\n",
              "       [0.50288019, 0.49711981],\n",
              "       [0.03596907, 0.96403093],\n",
              "       [0.50280115, 0.49719885],\n",
              "       [0.50302482, 0.49697518],\n",
              "       [0.50271683, 0.49728317],\n",
              "       [0.50317518, 0.49682482],\n",
              "       [0.50317846, 0.49682154],\n",
              "       [0.50282488, 0.49717512],\n",
              "       [0.5084026 , 0.4915974 ],\n",
              "       [0.50521694, 0.49478306],\n",
              "       [0.50375471, 0.49624529],\n",
              "       [0.50255779, 0.49744221],\n",
              "       [0.12500841, 0.87499159],\n",
              "       [0.50468892, 0.49531108],\n",
              "       [0.50278577, 0.49721423],\n",
              "       [0.50346557, 0.49653443],\n",
              "       [0.49168274, 0.50831726],\n",
              "       [0.54638522, 0.45361478],\n",
              "       [0.50251562, 0.49748438],\n",
              "       [0.49246421, 0.50753579],\n",
              "       [0.50313837, 0.49686163],\n",
              "       [0.50526728, 0.49473272],\n",
              "       [0.50237067, 0.49762933],\n",
              "       [0.50284334, 0.49715666],\n",
              "       [0.50216057, 0.49783943],\n",
              "       [0.50262727, 0.49737273],\n",
              "       [0.5027636 , 0.4972364 ],\n",
              "       [0.50284528, 0.49715472],\n",
              "       [0.45295953, 0.54704047],\n",
              "       [0.50276706, 0.49723294],\n",
              "       [0.49784211, 0.50215789],\n",
              "       [0.54211301, 0.45788699],\n",
              "       [0.13596964, 0.86403036],\n",
              "       [0.50269043, 0.49730957],\n",
              "       [0.57690425, 0.42309575],\n",
              "       [0.50259447, 0.49740553],\n",
              "       [0.50315685, 0.49684315],\n",
              "       [0.50283562, 0.49716438],\n",
              "       [0.1335479 , 0.8664521 ],\n",
              "       [0.50323393, 0.49676607],\n",
              "       [0.52483483, 0.47516517],\n",
              "       [0.24177931, 0.75822069],\n",
              "       [0.50131652, 0.49868348],\n",
              "       [0.50279029, 0.49720971],\n",
              "       [0.99794072, 0.00205928],\n",
              "       [0.95929027, 0.04070973],\n",
              "       [0.50425414, 0.49574586],\n",
              "       [0.66311857, 0.33688143],\n",
              "       [0.55772839, 0.44227161],\n",
              "       [0.50263819, 0.49736181],\n",
              "       [0.49452294, 0.50547706],\n",
              "       [0.50284581, 0.49715419],\n",
              "       [0.46002051, 0.53997949],\n",
              "       [0.50129232, 0.49870768],\n",
              "       [0.40770231, 0.59229769],\n",
              "       [0.34740545, 0.65259455],\n",
              "       [0.45176776, 0.54823224],\n",
              "       [0.50287865, 0.49712135],\n",
              "       [0.49737495, 0.50262505],\n",
              "       [0.50287919, 0.49712081],\n",
              "       [0.50281387, 0.49718613],\n",
              "       [0.35941963, 0.64058037],\n",
              "       [0.50283875, 0.49716125],\n",
              "       [0.50283478, 0.49716522],\n",
              "       [0.50241995, 0.49758005],\n",
              "       [0.50454569, 0.49545431],\n",
              "       [0.50405578, 0.49594422],\n",
              "       [0.50404775, 0.49595225],\n",
              "       [0.67241096, 0.32758904],\n",
              "       [0.50569823, 0.49430177],\n",
              "       [0.50388834, 0.49611166],\n",
              "       [0.71573373, 0.28426627],\n",
              "       [0.01910965, 0.98089035],\n",
              "       [0.13127275, 0.86872725],\n",
              "       [0.44882129, 0.55117871],\n",
              "       [0.45194496, 0.54805504],\n",
              "       [0.48384653, 0.51615347],\n",
              "       [0.47830922, 0.52169078],\n",
              "       [0.4896629 , 0.5103371 ],\n",
              "       [0.50047279, 0.49952721],\n",
              "       [0.50286998, 0.49713002],\n",
              "       [0.53286597, 0.46713403],\n",
              "       [0.5035827 , 0.4964173 ],\n",
              "       [0.50057768, 0.49942232],\n",
              "       [0.50282283, 0.49717717],\n",
              "       [0.50987694, 0.49012306],\n",
              "       [0.50281496, 0.49718504],\n",
              "       [0.50254525, 0.49745475],\n",
              "       [0.50369473, 0.49630527],\n",
              "       [0.28879697, 0.71120303],\n",
              "       [0.18117409, 0.81882591],\n",
              "       [0.62602561, 0.37397439],\n",
              "       [0.52948705, 0.47051295],\n",
              "       [0.52160072, 0.47839928],\n",
              "       [0.50273469, 0.49726531],\n",
              "       [0.44307363, 0.55692637],\n",
              "       [0.54231668, 0.45768332],\n",
              "       [0.49117974, 0.50882026],\n",
              "       [0.27122798, 0.72877202],\n",
              "       [0.50291048, 0.49708952],\n",
              "       [0.50245083, 0.49754917],\n",
              "       [0.49187861, 0.50812139],\n",
              "       [0.50285527, 0.49714473],\n",
              "       [0.50302989, 0.49697011],\n",
              "       [0.50679169, 0.49320831],\n",
              "       [0.50212656, 0.49787344],\n",
              "       [0.50321121, 0.49678879],\n",
              "       [0.22315413, 0.77684587],\n",
              "       [0.3259085 , 0.6740915 ],\n",
              "       [0.35775037, 0.64224963],\n",
              "       [0.50272705, 0.49727295],\n",
              "       [0.50278932, 0.49721068],\n",
              "       [0.50274354, 0.49725646],\n",
              "       [0.50281002, 0.49718998],\n",
              "       [0.35347339, 0.64652661],\n",
              "       [0.50302952, 0.49697048],\n",
              "       [0.50281855, 0.49718145],\n",
              "       [0.41431442, 0.58568558],\n",
              "       [0.50279346, 0.49720654],\n",
              "       [0.51070451, 0.48929549],\n",
              "       [0.52230368, 0.47769632],\n",
              "       [0.50582169, 0.49417831],\n",
              "       [0.57706727, 0.42293273],\n",
              "       [0.58718441, 0.41281559],\n",
              "       [0.49176925, 0.50823075],\n",
              "       [0.50282633, 0.49717367],\n",
              "       [0.8810289 , 0.1189711 ],\n",
              "       [0.50367051, 0.49632949],\n",
              "       [0.50282129, 0.49717871],\n",
              "       [0.50267991, 0.49732009],\n",
              "       [0.49912285, 0.50087715],\n",
              "       [0.47752246, 0.52247754],\n",
              "       [0.50285753, 0.49714247],\n",
              "       [0.50301593, 0.49698407],\n",
              "       [0.50240834, 0.49759166],\n",
              "       [0.42390292, 0.57609708],\n",
              "       [0.49928967, 0.50071033],\n",
              "       [0.5021531 , 0.4978469 ],\n",
              "       [0.4449171 , 0.5550829 ],\n",
              "       [0.50281687, 0.49718313],\n",
              "       [0.50461979, 0.49538021],\n",
              "       [0.5027553 , 0.4972447 ],\n",
              "       [0.50287855, 0.49712145],\n",
              "       [0.50291446, 0.49708554],\n",
              "       [0.50327116, 0.49672884],\n",
              "       [0.50287902, 0.49712098],\n",
              "       [0.50328468, 0.49671532],\n",
              "       [0.50283364, 0.49716636],\n",
              "       [0.44347077, 0.55652923],\n",
              "       [0.46299417, 0.53700583],\n",
              "       [0.50503581, 0.49496419],\n",
              "       [0.52292519, 0.47707481],\n",
              "       [0.50267087, 0.49732913],\n",
              "       [0.49772909, 0.50227091],\n",
              "       [0.50325329, 0.49674671],\n",
              "       [0.33224163, 0.66775837],\n",
              "       [0.50244213, 0.49755787],\n",
              "       [0.50114743, 0.49885257],\n",
              "       [0.50299278, 0.49700722],\n",
              "       [0.50305331, 0.49694669],\n",
              "       [0.19260636, 0.80739364],\n",
              "       [0.50284131, 0.49715869],\n",
              "       [0.50528504, 0.49471496],\n",
              "       [0.99788775, 0.00211225],\n",
              "       [0.50552805, 0.49447195],\n",
              "       [0.34546427, 0.65453573],\n",
              "       [0.49700989, 0.50299011],\n",
              "       [0.82537994, 0.17462006],\n",
              "       [0.45252994, 0.54747006],\n",
              "       [0.51049451, 0.48950549],\n",
              "       [0.50156736, 0.49843264],\n",
              "       [0.77517897, 0.22482103],\n",
              "       [0.52606743, 0.47393257],\n",
              "       [0.50285723, 0.49714277],\n",
              "       [0.5077184 , 0.4922816 ],\n",
              "       [0.50269402, 0.49730598],\n",
              "       [0.50282195, 0.49717805],\n",
              "       [0.52353289, 0.47646711],\n",
              "       [0.00313966, 0.99686034]])"
            ]
          },
          "metadata": {},
          "execution_count": 68
        }
      ]
    },
    {
      "cell_type": "markdown",
      "source": [
        "**Get Model Evaluation**"
      ],
      "metadata": {
        "id": "pEY5h1SZBpDl"
      }
    },
    {
      "cell_type": "code",
      "source": [
        "from sklearn.metrics import confusion_matrix, classification_report"
      ],
      "metadata": {
        "id": "3gzAC8ReBwM2"
      },
      "execution_count": 69,
      "outputs": []
    },
    {
      "cell_type": "code",
      "source": [
        "print(confusion_matrix(y_test, y_pred))"
      ],
      "metadata": {
        "colab": {
          "base_uri": "https://localhost:8080/"
        },
        "id": "b4cPDCdjB684",
        "outputId": "5961fca1-4c5f-49a6-db71-2a04373256d2"
      },
      "execution_count": 70,
      "outputs": [
        {
          "output_type": "stream",
          "name": "stdout",
          "text": [
            "[[180   2]\n",
            " [ 87  95]]\n"
          ]
        }
      ]
    },
    {
      "cell_type": "code",
      "source": [
        "print(classification_report(y_test, y_pred))"
      ],
      "metadata": {
        "colab": {
          "base_uri": "https://localhost:8080/"
        },
        "id": "uZHY0xUQCDwd",
        "outputId": "b175796d-0d81-470a-9fea-b682130a88ee"
      },
      "execution_count": 71,
      "outputs": [
        {
          "output_type": "stream",
          "name": "stdout",
          "text": [
            "              precision    recall  f1-score   support\n",
            "\n",
            "           0       0.67      0.99      0.80       182\n",
            "           1       0.98      0.52      0.68       182\n",
            "\n",
            "    accuracy                           0.76       364\n",
            "   macro avg       0.83      0.76      0.74       364\n",
            "weighted avg       0.83      0.76      0.74       364\n",
            "\n"
          ]
        }
      ]
    },
    {
      "cell_type": "markdown",
      "source": [
        "**Get Future Prediction**"
      ],
      "metadata": {
        "id": "TLkdV2HLCTo6"
      }
    },
    {
      "cell_type": "code",
      "source": [
        "X_new = df.sample(1)"
      ],
      "metadata": {
        "id": "qYobL8GcCYCR"
      },
      "execution_count": 72,
      "outputs": []
    },
    {
      "cell_type": "code",
      "source": [
        "X_new"
      ],
      "metadata": {
        "colab": {
          "base_uri": "https://localhost:8080/",
          "height": 110
        },
        "id": "NXwOeUWdCe-U",
        "outputId": "d3b65387-4e99-4a3a-c082-4f5a71d442df"
      },
      "execution_count": 73,
      "outputs": [
        {
          "output_type": "execute_result",
          "data": {
            "text/plain": [
              "        V1     V2     V3     V4     V5    V6     V7     V8     V9    V10  ...  \\\n",
              "206  22.05  21.36  22.14  22.88  22.36  22.2  21.83  22.77  22.64  22.35  ...   \n",
              "\n",
              "       V92    V93    V94    V95    V96    V97   V98    V99   V100  Class  \n",
              "206  22.36  22.42  21.26  22.16  22.03  22.54  22.3  22.18  22.77      0  \n",
              "\n",
              "[1 rows x 101 columns]"
            ],
            "text/html": [
              "\n",
              "  <div id=\"df-3d8fa783-c312-4bb7-9e8e-2181242fddac\">\n",
              "    <div class=\"colab-df-container\">\n",
              "      <div>\n",
              "<style scoped>\n",
              "    .dataframe tbody tr th:only-of-type {\n",
              "        vertical-align: middle;\n",
              "    }\n",
              "\n",
              "    .dataframe tbody tr th {\n",
              "        vertical-align: top;\n",
              "    }\n",
              "\n",
              "    .dataframe thead th {\n",
              "        text-align: right;\n",
              "    }\n",
              "</style>\n",
              "<table border=\"1\" class=\"dataframe\">\n",
              "  <thead>\n",
              "    <tr style=\"text-align: right;\">\n",
              "      <th></th>\n",
              "      <th>V1</th>\n",
              "      <th>V2</th>\n",
              "      <th>V3</th>\n",
              "      <th>V4</th>\n",
              "      <th>V5</th>\n",
              "      <th>V6</th>\n",
              "      <th>V7</th>\n",
              "      <th>V8</th>\n",
              "      <th>V9</th>\n",
              "      <th>V10</th>\n",
              "      <th>...</th>\n",
              "      <th>V92</th>\n",
              "      <th>V93</th>\n",
              "      <th>V94</th>\n",
              "      <th>V95</th>\n",
              "      <th>V96</th>\n",
              "      <th>V97</th>\n",
              "      <th>V98</th>\n",
              "      <th>V99</th>\n",
              "      <th>V100</th>\n",
              "      <th>Class</th>\n",
              "    </tr>\n",
              "  </thead>\n",
              "  <tbody>\n",
              "    <tr>\n",
              "      <th>206</th>\n",
              "      <td>22.05</td>\n",
              "      <td>21.36</td>\n",
              "      <td>22.14</td>\n",
              "      <td>22.88</td>\n",
              "      <td>22.36</td>\n",
              "      <td>22.2</td>\n",
              "      <td>21.83</td>\n",
              "      <td>22.77</td>\n",
              "      <td>22.64</td>\n",
              "      <td>22.35</td>\n",
              "      <td>...</td>\n",
              "      <td>22.36</td>\n",
              "      <td>22.42</td>\n",
              "      <td>21.26</td>\n",
              "      <td>22.16</td>\n",
              "      <td>22.03</td>\n",
              "      <td>22.54</td>\n",
              "      <td>22.3</td>\n",
              "      <td>22.18</td>\n",
              "      <td>22.77</td>\n",
              "      <td>0</td>\n",
              "    </tr>\n",
              "  </tbody>\n",
              "</table>\n",
              "<p>1 rows × 101 columns</p>\n",
              "</div>\n",
              "      <button class=\"colab-df-convert\" onclick=\"convertToInteractive('df-3d8fa783-c312-4bb7-9e8e-2181242fddac')\"\n",
              "              title=\"Convert this dataframe to an interactive table.\"\n",
              "              style=\"display:none;\">\n",
              "        \n",
              "  <svg xmlns=\"http://www.w3.org/2000/svg\" height=\"24px\"viewBox=\"0 0 24 24\"\n",
              "       width=\"24px\">\n",
              "    <path d=\"M0 0h24v24H0V0z\" fill=\"none\"/>\n",
              "    <path d=\"M18.56 5.44l.94 2.06.94-2.06 2.06-.94-2.06-.94-.94-2.06-.94 2.06-2.06.94zm-11 1L8.5 8.5l.94-2.06 2.06-.94-2.06-.94L8.5 2.5l-.94 2.06-2.06.94zm10 10l.94 2.06.94-2.06 2.06-.94-2.06-.94-.94-2.06-.94 2.06-2.06.94z\"/><path d=\"M17.41 7.96l-1.37-1.37c-.4-.4-.92-.59-1.43-.59-.52 0-1.04.2-1.43.59L10.3 9.45l-7.72 7.72c-.78.78-.78 2.05 0 2.83L4 21.41c.39.39.9.59 1.41.59.51 0 1.02-.2 1.41-.59l7.78-7.78 2.81-2.81c.8-.78.8-2.07 0-2.86zM5.41 20L4 18.59l7.72-7.72 1.47 1.35L5.41 20z\"/>\n",
              "  </svg>\n",
              "      </button>\n",
              "      \n",
              "  <style>\n",
              "    .colab-df-container {\n",
              "      display:flex;\n",
              "      flex-wrap:wrap;\n",
              "      gap: 12px;\n",
              "    }\n",
              "\n",
              "    .colab-df-convert {\n",
              "      background-color: #E8F0FE;\n",
              "      border: none;\n",
              "      border-radius: 50%;\n",
              "      cursor: pointer;\n",
              "      display: none;\n",
              "      fill: #1967D2;\n",
              "      height: 32px;\n",
              "      padding: 0 0 0 0;\n",
              "      width: 32px;\n",
              "    }\n",
              "\n",
              "    .colab-df-convert:hover {\n",
              "      background-color: #E2EBFA;\n",
              "      box-shadow: 0px 1px 2px rgba(60, 64, 67, 0.3), 0px 1px 3px 1px rgba(60, 64, 67, 0.15);\n",
              "      fill: #174EA6;\n",
              "    }\n",
              "\n",
              "    [theme=dark] .colab-df-convert {\n",
              "      background-color: #3B4455;\n",
              "      fill: #D2E3FC;\n",
              "    }\n",
              "\n",
              "    [theme=dark] .colab-df-convert:hover {\n",
              "      background-color: #434B5C;\n",
              "      box-shadow: 0px 1px 3px 1px rgba(0, 0, 0, 0.15);\n",
              "      filter: drop-shadow(0px 1px 2px rgba(0, 0, 0, 0.3));\n",
              "      fill: #FFFFFF;\n",
              "    }\n",
              "  </style>\n",
              "\n",
              "      <script>\n",
              "        const buttonEl =\n",
              "          document.querySelector('#df-3d8fa783-c312-4bb7-9e8e-2181242fddac button.colab-df-convert');\n",
              "        buttonEl.style.display =\n",
              "          google.colab.kernel.accessAllowed ? 'block' : 'none';\n",
              "\n",
              "        async function convertToInteractive(key) {\n",
              "          const element = document.querySelector('#df-3d8fa783-c312-4bb7-9e8e-2181242fddac');\n",
              "          const dataTable =\n",
              "            await google.colab.kernel.invokeFunction('convertToInteractive',\n",
              "                                                     [key], {});\n",
              "          if (!dataTable) return;\n",
              "\n",
              "          const docLinkHtml = 'Like what you see? Visit the ' +\n",
              "            '<a target=\"_blank\" href=https://colab.research.google.com/notebooks/data_table.ipynb>data table notebook</a>'\n",
              "            + ' to learn more about interactive tables.';\n",
              "          element.innerHTML = '';\n",
              "          dataTable['output_type'] = 'display_data';\n",
              "          await google.colab.output.renderOutput(dataTable, element);\n",
              "          const docLink = document.createElement('div');\n",
              "          docLink.innerHTML = docLinkHtml;\n",
              "          element.appendChild(docLink);\n",
              "        }\n",
              "      </script>\n",
              "    </div>\n",
              "  </div>\n",
              "  "
            ]
          },
          "metadata": {},
          "execution_count": 73
        }
      ]
    },
    {
      "cell_type": "code",
      "source": [
        "X_new.shape"
      ],
      "metadata": {
        "colab": {
          "base_uri": "https://localhost:8080/"
        },
        "id": "UTnraMiNCoM3",
        "outputId": "3f729aac-9a4f-4a6c-e99e-f0fa7a71eba2"
      },
      "execution_count": 74,
      "outputs": [
        {
          "output_type": "execute_result",
          "data": {
            "text/plain": [
              "(1, 101)"
            ]
          },
          "metadata": {},
          "execution_count": 74
        }
      ]
    },
    {
      "cell_type": "code",
      "source": [
        "X_new = X_new.drop('Class', axis = 1)"
      ],
      "metadata": {
        "id": "jHuOKOXcCzkN"
      },
      "execution_count": 75,
      "outputs": []
    },
    {
      "cell_type": "code",
      "source": [
        "X_new"
      ],
      "metadata": {
        "colab": {
          "base_uri": "https://localhost:8080/",
          "height": 110
        },
        "id": "uIgs3bRpC-i7",
        "outputId": "59aebcab-2225-4971-b9ca-578324085d9f"
      },
      "execution_count": 76,
      "outputs": [
        {
          "output_type": "execute_result",
          "data": {
            "text/plain": [
              "        V1     V2     V3     V4     V5    V6     V7     V8     V9    V10  ...  \\\n",
              "206  22.05  21.36  22.14  22.88  22.36  22.2  21.83  22.77  22.64  22.35  ...   \n",
              "\n",
              "       V91    V92    V93    V94    V95    V96    V97   V98    V99   V100  \n",
              "206  22.36  22.36  22.42  21.26  22.16  22.03  22.54  22.3  22.18  22.77  \n",
              "\n",
              "[1 rows x 100 columns]"
            ],
            "text/html": [
              "\n",
              "  <div id=\"df-1be7abde-9676-44a4-a1c3-7a2154bcf4c1\">\n",
              "    <div class=\"colab-df-container\">\n",
              "      <div>\n",
              "<style scoped>\n",
              "    .dataframe tbody tr th:only-of-type {\n",
              "        vertical-align: middle;\n",
              "    }\n",
              "\n",
              "    .dataframe tbody tr th {\n",
              "        vertical-align: top;\n",
              "    }\n",
              "\n",
              "    .dataframe thead th {\n",
              "        text-align: right;\n",
              "    }\n",
              "</style>\n",
              "<table border=\"1\" class=\"dataframe\">\n",
              "  <thead>\n",
              "    <tr style=\"text-align: right;\">\n",
              "      <th></th>\n",
              "      <th>V1</th>\n",
              "      <th>V2</th>\n",
              "      <th>V3</th>\n",
              "      <th>V4</th>\n",
              "      <th>V5</th>\n",
              "      <th>V6</th>\n",
              "      <th>V7</th>\n",
              "      <th>V8</th>\n",
              "      <th>V9</th>\n",
              "      <th>V10</th>\n",
              "      <th>...</th>\n",
              "      <th>V91</th>\n",
              "      <th>V92</th>\n",
              "      <th>V93</th>\n",
              "      <th>V94</th>\n",
              "      <th>V95</th>\n",
              "      <th>V96</th>\n",
              "      <th>V97</th>\n",
              "      <th>V98</th>\n",
              "      <th>V99</th>\n",
              "      <th>V100</th>\n",
              "    </tr>\n",
              "  </thead>\n",
              "  <tbody>\n",
              "    <tr>\n",
              "      <th>206</th>\n",
              "      <td>22.05</td>\n",
              "      <td>21.36</td>\n",
              "      <td>22.14</td>\n",
              "      <td>22.88</td>\n",
              "      <td>22.36</td>\n",
              "      <td>22.2</td>\n",
              "      <td>21.83</td>\n",
              "      <td>22.77</td>\n",
              "      <td>22.64</td>\n",
              "      <td>22.35</td>\n",
              "      <td>...</td>\n",
              "      <td>22.36</td>\n",
              "      <td>22.36</td>\n",
              "      <td>22.42</td>\n",
              "      <td>21.26</td>\n",
              "      <td>22.16</td>\n",
              "      <td>22.03</td>\n",
              "      <td>22.54</td>\n",
              "      <td>22.3</td>\n",
              "      <td>22.18</td>\n",
              "      <td>22.77</td>\n",
              "    </tr>\n",
              "  </tbody>\n",
              "</table>\n",
              "<p>1 rows × 100 columns</p>\n",
              "</div>\n",
              "      <button class=\"colab-df-convert\" onclick=\"convertToInteractive('df-1be7abde-9676-44a4-a1c3-7a2154bcf4c1')\"\n",
              "              title=\"Convert this dataframe to an interactive table.\"\n",
              "              style=\"display:none;\">\n",
              "        \n",
              "  <svg xmlns=\"http://www.w3.org/2000/svg\" height=\"24px\"viewBox=\"0 0 24 24\"\n",
              "       width=\"24px\">\n",
              "    <path d=\"M0 0h24v24H0V0z\" fill=\"none\"/>\n",
              "    <path d=\"M18.56 5.44l.94 2.06.94-2.06 2.06-.94-2.06-.94-.94-2.06-.94 2.06-2.06.94zm-11 1L8.5 8.5l.94-2.06 2.06-.94-2.06-.94L8.5 2.5l-.94 2.06-2.06.94zm10 10l.94 2.06.94-2.06 2.06-.94-2.06-.94-.94-2.06-.94 2.06-2.06.94z\"/><path d=\"M17.41 7.96l-1.37-1.37c-.4-.4-.92-.59-1.43-.59-.52 0-1.04.2-1.43.59L10.3 9.45l-7.72 7.72c-.78.78-.78 2.05 0 2.83L4 21.41c.39.39.9.59 1.41.59.51 0 1.02-.2 1.41-.59l7.78-7.78 2.81-2.81c.8-.78.8-2.07 0-2.86zM5.41 20L4 18.59l7.72-7.72 1.47 1.35L5.41 20z\"/>\n",
              "  </svg>\n",
              "      </button>\n",
              "      \n",
              "  <style>\n",
              "    .colab-df-container {\n",
              "      display:flex;\n",
              "      flex-wrap:wrap;\n",
              "      gap: 12px;\n",
              "    }\n",
              "\n",
              "    .colab-df-convert {\n",
              "      background-color: #E8F0FE;\n",
              "      border: none;\n",
              "      border-radius: 50%;\n",
              "      cursor: pointer;\n",
              "      display: none;\n",
              "      fill: #1967D2;\n",
              "      height: 32px;\n",
              "      padding: 0 0 0 0;\n",
              "      width: 32px;\n",
              "    }\n",
              "\n",
              "    .colab-df-convert:hover {\n",
              "      background-color: #E2EBFA;\n",
              "      box-shadow: 0px 1px 2px rgba(60, 64, 67, 0.3), 0px 1px 3px 1px rgba(60, 64, 67, 0.15);\n",
              "      fill: #174EA6;\n",
              "    }\n",
              "\n",
              "    [theme=dark] .colab-df-convert {\n",
              "      background-color: #3B4455;\n",
              "      fill: #D2E3FC;\n",
              "    }\n",
              "\n",
              "    [theme=dark] .colab-df-convert:hover {\n",
              "      background-color: #434B5C;\n",
              "      box-shadow: 0px 1px 3px 1px rgba(0, 0, 0, 0.15);\n",
              "      filter: drop-shadow(0px 1px 2px rgba(0, 0, 0, 0.3));\n",
              "      fill: #FFFFFF;\n",
              "    }\n",
              "  </style>\n",
              "\n",
              "      <script>\n",
              "        const buttonEl =\n",
              "          document.querySelector('#df-1be7abde-9676-44a4-a1c3-7a2154bcf4c1 button.colab-df-convert');\n",
              "        buttonEl.style.display =\n",
              "          google.colab.kernel.accessAllowed ? 'block' : 'none';\n",
              "\n",
              "        async function convertToInteractive(key) {\n",
              "          const element = document.querySelector('#df-1be7abde-9676-44a4-a1c3-7a2154bcf4c1');\n",
              "          const dataTable =\n",
              "            await google.colab.kernel.invokeFunction('convertToInteractive',\n",
              "                                                     [key], {});\n",
              "          if (!dataTable) return;\n",
              "\n",
              "          const docLinkHtml = 'Like what you see? Visit the ' +\n",
              "            '<a target=\"_blank\" href=https://colab.research.google.com/notebooks/data_table.ipynb>data table notebook</a>'\n",
              "            + ' to learn more about interactive tables.';\n",
              "          element.innerHTML = '';\n",
              "          dataTable['output_type'] = 'display_data';\n",
              "          await google.colab.output.renderOutput(dataTable, element);\n",
              "          const docLink = document.createElement('div');\n",
              "          docLink.innerHTML = docLinkHtml;\n",
              "          element.appendChild(docLink);\n",
              "        }\n",
              "      </script>\n",
              "    </div>\n",
              "  </div>\n",
              "  "
            ]
          },
          "metadata": {},
          "execution_count": 76
        }
      ]
    },
    {
      "cell_type": "code",
      "source": [
        "X_new.shape"
      ],
      "metadata": {
        "colab": {
          "base_uri": "https://localhost:8080/"
        },
        "id": "EFGuno8hDIQk",
        "outputId": "f85c29ca-897a-4143-a2b0-0c58941bb949"
      },
      "execution_count": 77,
      "outputs": [
        {
          "output_type": "execute_result",
          "data": {
            "text/plain": [
              "(1, 100)"
            ]
          },
          "metadata": {},
          "execution_count": 77
        }
      ]
    },
    {
      "cell_type": "code",
      "source": [
        "X_new = ss.fit_transform(X_new)"
      ],
      "metadata": {
        "id": "vun-PEX_DMsr"
      },
      "execution_count": 78,
      "outputs": []
    },
    {
      "cell_type": "code",
      "source": [
        "y_pred_new = lr.predict(X_new)"
      ],
      "metadata": {
        "id": "BKUFYcBLDVwe"
      },
      "execution_count": 79,
      "outputs": []
    },
    {
      "cell_type": "code",
      "source": [
        "y_pred_new"
      ],
      "metadata": {
        "colab": {
          "base_uri": "https://localhost:8080/"
        },
        "id": "MpG6R7qIDcv2",
        "outputId": "8f193ee9-0e10-4aab-fdd2-18bb67e8e690"
      },
      "execution_count": 80,
      "outputs": [
        {
          "output_type": "execute_result",
          "data": {
            "text/plain": [
              "array([1])"
            ]
          },
          "metadata": {},
          "execution_count": 80
        }
      ]
    },
    {
      "cell_type": "code",
      "source": [
        "lr.predict_proba(X_new)"
      ],
      "metadata": {
        "colab": {
          "base_uri": "https://localhost:8080/"
        },
        "id": "tXW9huxgDhnt",
        "outputId": "16df1d6d-dab6-4d39-9006-12a76b171655"
      },
      "execution_count": 81,
      "outputs": [
        {
          "output_type": "execute_result",
          "data": {
            "text/plain": [
              "array([[0.49292069, 0.50707931]])"
            ]
          },
          "metadata": {},
          "execution_count": 81
        }
      ]
    }
  ]
}
